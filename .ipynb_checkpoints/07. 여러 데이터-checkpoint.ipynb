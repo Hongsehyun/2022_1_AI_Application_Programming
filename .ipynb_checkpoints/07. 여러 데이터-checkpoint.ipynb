{
 "cells": [
  {
   "cell_type": "markdown",
   "id": "0d36ccfd",
   "metadata": {},
   "source": [
    "# 07. 여러 데이터"
   ]
  },
  {
   "cell_type": "code",
   "execution_count": 1,
   "id": "b3270a93",
   "metadata": {},
   "outputs": [],
   "source": [
    "import matplotlib.pyplot as plt\n",
    "import matplotlib\n",
    "\n",
    "# 한글 폰트 사용 설정\n",
    "matplotlib.rcParams['font.family'] = 'Malgun Gothic'   # Windows에서 한글 사용\n",
    "matplotlib.rcParams['font.size'] = 15                  # 한글 글자 크기 설정\n",
    "matplotlib.rcParams['axes.unicode_minus'] = False"
   ]
  },
  {
   "cell_type": "code",
   "execution_count": 2,
   "id": "f2728043",
   "metadata": {},
   "outputs": [],
   "source": [
    "x = [1,2,3]\n",
    "y = [2,4,8]"
   ]
  },
  {
   "cell_type": "markdown",
   "id": "7a4d3a44",
   "metadata": {},
   "source": [
    "## COVID 백신 종류별 접종 인구"
   ]
  },
  {
   "cell_type": "code",
   "execution_count": null,
   "id": "1ae9ac9c",
   "metadata": {},
   "outputs": [],
   "source": [
    "days = [1,2,3]   # 1일, 2일, 3일\n",
    "az = [2,4,8]     # 단위: 만 명   // 1일부터 3일까지 아스트라제네카 접종인구\n",
    "pfizer = [5,1,3]\n",
    "moderna = [1,2,5]"
   ]
  },
  {
   "cell_type": "code",
   "execution_count": null,
   "id": "9333a3e3",
   "metadata": {},
   "outputs": [],
   "source": []
  },
  {
   "cell_type": "code",
   "execution_count": null,
   "id": "e2636fcb",
   "metadata": {},
   "outputs": [],
   "source": []
  },
  {
   "cell_type": "code",
   "execution_count": null,
   "id": "5f8ffbf9",
   "metadata": {},
   "outputs": [],
   "source": []
  },
  {
   "cell_type": "code",
   "execution_count": null,
   "id": "d40f48b5",
   "metadata": {},
   "outputs": [],
   "source": []
  },
  {
   "cell_type": "code",
   "execution_count": null,
   "id": "4f46e9a1",
   "metadata": {},
   "outputs": [],
   "source": []
  },
  {
   "cell_type": "code",
   "execution_count": null,
   "id": "8bfe99c0",
   "metadata": {},
   "outputs": [],
   "source": []
  },
  {
   "cell_type": "code",
   "execution_count": null,
   "id": "4bb14fcd",
   "metadata": {},
   "outputs": [],
   "source": []
  },
  {
   "cell_type": "code",
   "execution_count": null,
   "id": "c0858487",
   "metadata": {},
   "outputs": [],
   "source": []
  },
  {
   "cell_type": "code",
   "execution_count": null,
   "id": "dbff07db",
   "metadata": {},
   "outputs": [],
   "source": []
  },
  {
   "cell_type": "code",
   "execution_count": null,
   "id": "6aa0d791",
   "metadata": {},
   "outputs": [],
   "source": []
  },
  {
   "cell_type": "code",
   "execution_count": null,
   "id": "8f2e443e",
   "metadata": {},
   "outputs": [],
   "source": []
  }
 ],
 "metadata": {
  "kernelspec": {
   "display_name": "Python 3 (ipykernel)",
   "language": "python",
   "name": "python3"
  },
  "language_info": {
   "codemirror_mode": {
    "name": "ipython",
    "version": 3
   },
   "file_extension": ".py",
   "mimetype": "text/x-python",
   "name": "python",
   "nbconvert_exporter": "python",
   "pygments_lexer": "ipython3",
   "version": "3.9.7"
  }
 },
 "nbformat": 4,
 "nbformat_minor": 5
}
