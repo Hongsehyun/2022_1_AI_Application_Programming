{
 "cells": [
  {
   "cell_type": "markdown",
   "id": "16f02809",
   "metadata": {},
   "source": [
    "### StandardScaler\n",
    "\n",
    "평균을 제거하고 데이터를 단위 분산으로 조정한다. 그러나 이상치가 있다면 평균과 표준편차에 영향을 미쳐 변환된 데이터의 확산은 매우 달라지게 된다.\n",
    "\n",
    "따라서 이상치가 있는 경우 균형 잡힌 척도를 보장할 수 없다."
   ]
  },
  {
   "cell_type": "code",
   "execution_count": null,
   "id": "ac506137",
   "metadata": {},
   "outputs": [],
   "source": [
    "from sklearn.preprocessing import StandardScaler\n",
    "standardScaler = StandardScaler()\n",
    "print(standardScaler.fit(train_data))\n",
    "train_data_standardScaled = standardScaler.transform(train_data)"
   ]
  },
  {
   "cell_type": "markdown",
   "id": "1631200e",
   "metadata": {},
   "source": [
    "### MinMaxScaler\n",
    "\n",
    "모든 feature 값이 0~1사이에 있도록 데이터를 재조정한다. 다만 이상치가 있는 경우 변환된 값이 매우 좁은 범위로 압축될 수 있다.\n",
    "\n",
    "즉, MinMaxScaler 역시 아웃라이어의 존재에 매우 민감하다."
   ]
  },
  {
   "cell_type": "code",
   "execution_count": null,
   "id": "a7b0262c",
   "metadata": {},
   "outputs": [],
   "source": [
    "from sklearn.preprocessing import MinMaxScaler\n",
    "minMaxScaler = MinMaxScaler()\n",
    "print(minMaxScaler.fit(train_data))\n",
    "train_data_minMaxScaled = minMaxScaler.transform(train_data)"
   ]
  },
  {
   "cell_type": "markdown",
   "id": "f4584d35",
   "metadata": {},
   "source": [
    "### MaxAbsScaler\n",
    "절대값이 0 ~ 1 사이에 매핑되도록 한다. 즉 -1 ~ 1 사이로 재조정한다. 양수 데이터로만 구성된 특징 데이터셋에서는 MinMaxScaler와 유사하게 동작하며, 큰 이상치에 민감할 수 있다."
   ]
  },
  {
   "cell_type": "code",
   "execution_count": null,
   "id": "b683b80c",
   "metadata": {},
   "outputs": [],
   "source": [
    "from sklearn.preprocessing import MaxAbsScaler\n",
    "maxAbsScaler = MaxAbsScaler()\n",
    "print(maxAbsScaler.fit(train_data))\n",
    "train_data_maxAbsScaled = maxAbsScaler.transform(train_data)"
   ]
  },
  {
   "cell_type": "markdown",
   "id": "52339d35",
   "metadata": {},
   "source": [
    "### RobustScaler\n",
    "\n",
    "아웃라이어의 영향을 최소화한 기법이다. 중앙값(median)과 IQR(interquartile range)을 사용하기 때문에 StandardScaler와 비교해보면 표준화 후 동일한 값을 더 넓게 분포 시키고 있음을 확인 할 수 있다."
   ]
  },
  {
   "cell_type": "code",
   "execution_count": null,
   "id": "69d1dab0",
   "metadata": {},
   "outputs": [],
   "source": [
    "from sklearn.preprocessing import RobustScaler\n",
    "robustScaler = RobustScaler()\n",
    "print(robustScaler.fit(train_data))\n",
    "train_data_robustScaled = robustScaler.transform(train_data)"
   ]
  },
  {
   "cell_type": "code",
   "execution_count": null,
   "id": "1b2fc905",
   "metadata": {},
   "outputs": [],
   "source": [
    "# 1을 positive 라고 할때\n",
    "\n",
    "TP = cm[1,1]\n",
    "TN = cm[0,0]\n",
    "FP = cm[0,1]\n",
    "FN = cm[1,0]\n",
    "\n",
    "# -1을 positive 라고 할때\n",
    "\n",
    "TP = cm[0,0]\n",
    "TN = cm[1,1]\n",
    "FP = cm[1,0]\n",
    "FN = cm[0,1]"
   ]
  },
  {
   "cell_type": "markdown",
   "id": "c62a8ca1",
   "metadata": {},
   "source": [
    "random_state=1 이라고 하면 바로 이 random 함수의 seed 값을 고정시키기 때문에 여러번 수행하더라도 같은 레코드를 추출합니다. \n",
    "random 함수의 seed값을 random_state라고 생각하시면 됩니다"
   ]
  },
  {
   "cell_type": "code",
   "execution_count": null,
   "id": "c7c7c0d0",
   "metadata": {},
   "outputs": [],
   "source": [
    "# PCA\n",
    "# 적절한 차원의 갯수를 찾아줄때\n",
    "pca = PCA()\n",
    "pca.fit(X_train)\n",
    "cumsum.np.sumsum(pca.explained_variance_ratio_)\n",
    "d = np.argmax(cumsum>=0.95) + 1\n",
    "\n",
    "#위에꺼랑 같은거\n",
    "pca = PCA(n_components = 0.95)\n",
    "X_reduced = pca.fit_transform(X_train)"
   ]
  }
 ],
 "metadata": {
  "kernelspec": {
   "display_name": "Python 3 (ipykernel)",
   "language": "python",
   "name": "python3"
  },
  "language_info": {
   "codemirror_mode": {
    "name": "ipython",
    "version": 3
   },
   "file_extension": ".py",
   "mimetype": "text/x-python",
   "name": "python",
   "nbconvert_exporter": "python",
   "pygments_lexer": "ipython3",
   "version": "3.9.7"
  }
 },
 "nbformat": 4,
 "nbformat_minor": 5
}
