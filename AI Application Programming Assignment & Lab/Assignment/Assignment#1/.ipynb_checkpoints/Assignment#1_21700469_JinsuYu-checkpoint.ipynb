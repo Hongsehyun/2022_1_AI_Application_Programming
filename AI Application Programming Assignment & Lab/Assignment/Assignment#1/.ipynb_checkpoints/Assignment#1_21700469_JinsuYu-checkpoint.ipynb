{
 "cells": [
  {
   "cell_type": "markdown",
   "id": "43a9f8bc",
   "metadata": {
    "id": "43a9f8bc"
   },
   "source": [
    "# Python Libraries\n",
    "- Dataset: titanic_dataset.csv\n",
    "- Source: Kaggle"
   ]
  },
  {
   "cell_type": "markdown",
   "id": "54ea1d66",
   "metadata": {
    "id": "54ea1d66"
   },
   "source": [
    "# 1. Import Libraries"
   ]
  },
  {
   "cell_type": "code",
   "execution_count": 1,
   "id": "926f0775",
   "metadata": {
    "id": "926f0775"
   },
   "outputs": [],
   "source": [
    "import pandas as pd\n",
    "import numpy as np\n",
    "import matplotlib.pyplot as plt\n",
    "import seaborn as sns"
   ]
  },
  {
   "cell_type": "markdown",
   "id": "noi_SdJmS_Lw",
   "metadata": {
    "id": "noi_SdJmS_Lw"
   },
   "source": [
    "### (a) (10pt) 데이터를 불러오고, 최소 3개 이상의 함수를 이용해 데이터를 살펴보아라."
   ]
  },
  {
   "cell_type": "markdown",
   "id": "xOze9izPE2hU",
   "metadata": {
    "id": "xOze9izPE2hU"
   },
   "source": [
    "#### 데이터 불러오기"
   ]
  },
  {
   "cell_type": "code",
   "execution_count": 3,
   "id": "783a7631",
   "metadata": {
    "colab": {
     "base_uri": "https://localhost:8080/"
    },
    "id": "783a7631",
    "outputId": "6d3dd6ab-59a8-4274-bd10-7c01accc0bff"
   },
   "outputs": [
    {
     "name": "stdout",
     "output_type": "stream",
     "text": [
      "Drive already mounted at /content/drive; to attempt to forcibly remount, call drive.mount(\"/content/drive\", force_remount=True).\n"
     ]
    }
   ],
   "source": [
    "# (a)\n",
    "from google.colab import drive\n",
    "drive.mount('/content/drive')\n",
    "\n",
    "data = pd.read_csv(\"/content/drive/MyDrive/Colab Notebooks/AI 활용 프로그래밍/titanic_dataset.csv\")"
   ]
  },
  {
   "cell_type": "markdown",
   "id": "HG6UwRJfE8sa",
   "metadata": {
    "id": "HG6UwRJfE8sa"
   },
   "source": [
    "#### 데이터 살펴보기"
   ]
  },
  {
   "cell_type": "code",
   "execution_count": 6,
   "id": "9snGH2D1UwZq",
   "metadata": {
    "colab": {
     "base_uri": "https://localhost:8080/"
    },
    "id": "9snGH2D1UwZq",
    "outputId": "30991a35-7cc1-43b9-9e42-5f87cb9bc094"
   },
   "outputs": [
    {
     "name": "stdout",
     "output_type": "stream",
     "text": [
      "<class 'pandas.core.frame.DataFrame'>\n",
      "RangeIndex: 891 entries, 0 to 890\n",
      "Data columns (total 12 columns):\n",
      " #   Column       Non-Null Count  Dtype  \n",
      "---  ------       --------------  -----  \n",
      " 0   PassengerId  891 non-null    int64  \n",
      " 1   Survived     891 non-null    int64  \n",
      " 2   Pclass       891 non-null    int64  \n",
      " 3   Name         891 non-null    object \n",
      " 4   Sex          891 non-null    object \n",
      " 5   Age          714 non-null    float64\n",
      " 6   SibSp        891 non-null    int64  \n",
      " 7   Parch        891 non-null    int64  \n",
      " 8   Ticket       891 non-null    object \n",
      " 9   Fare         891 non-null    float64\n",
      " 10  Cabin        204 non-null    object \n",
      " 11  Embarked     889 non-null    object \n",
      "dtypes: float64(2), int64(5), object(5)\n",
      "memory usage: 83.7+ KB\n"
     ]
    }
   ],
   "source": [
    "# 데이터 컬럼 이름/타입 정보, 전체 행 수 확인\n",
    "data.info();"
   ]
  },
  {
   "cell_type": "code",
   "execution_count": 7,
   "id": "KwJEkZnpXSsn",
   "metadata": {
    "colab": {
     "base_uri": "https://localhost:8080/"
    },
    "id": "KwJEkZnpXSsn",
    "outputId": "38629797-fb1d-460d-aa80-a839e63ba9ea"
   },
   "outputs": [
    {
     "name": "stdout",
     "output_type": "stream",
     "text": [
      "       PassengerId    Survived      Pclass         Age       SibSp  \\\n",
      "count   891.000000  891.000000  891.000000  714.000000  891.000000   \n",
      "mean    446.000000    0.383838    2.308642   29.699118    0.523008   \n",
      "std     257.353842    0.486592    0.836071   14.526497    1.102743   \n",
      "min       1.000000    0.000000    1.000000    0.420000    0.000000   \n",
      "25%     223.500000    0.000000    2.000000   20.125000    0.000000   \n",
      "50%     446.000000    0.000000    3.000000   28.000000    0.000000   \n",
      "75%     668.500000    1.000000    3.000000   38.000000    1.000000   \n",
      "max     891.000000    1.000000    3.000000   80.000000    8.000000   \n",
      "\n",
      "            Parch        Fare  \n",
      "count  891.000000  891.000000  \n",
      "mean     0.381594   32.204208  \n",
      "std      0.806057   49.693429  \n",
      "min      0.000000    0.000000  \n",
      "25%      0.000000    7.910400  \n",
      "50%      0.000000   14.454200  \n",
      "75%      0.000000   31.000000  \n",
      "max      6.000000  512.329200  \n"
     ]
    }
   ],
   "source": [
    "# 숫자형 데이터의 요약 정보 확인\n",
    "print(data.describe());\n",
    "\n",
    "# Name, Sex, Ticket, Cabin, Embarked의 경우 데이터 타입이 object이기에 표기되지 않았다."
   ]
  },
  {
   "cell_type": "code",
   "execution_count": 8,
   "id": "4ayr3YJPQLOl",
   "metadata": {
    "colab": {
     "base_uri": "https://localhost:8080/"
    },
    "id": "4ayr3YJPQLOl",
    "outputId": "952b666f-fb20-43da-a8fe-693e91afbc9a"
   },
   "outputs": [
    {
     "name": "stdout",
     "output_type": "stream",
     "text": [
      "중복된 항목 수 :  0\n"
     ]
    }
   ],
   "source": [
    "# 중복된 데이터 유무 파악\n",
    "print(\"중복된 항목 수 : \", len(data[data.duplicated()]))"
   ]
  },
  {
   "cell_type": "code",
   "execution_count": 9,
   "id": "py1J6Wmqd2FO",
   "metadata": {
    "colab": {
     "base_uri": "https://localhost:8080/",
     "height": 265
    },
    "id": "py1J6Wmqd2FO",
    "outputId": "d880d7f8-bfb2-4cc7-cafd-45a7e3742045"
   },
   "outputs": [
    {
     "data": {
      "image/png": "[encoded data removed]",
      "text/plain": [
       "<Figure size 432x288 with 1 Axes>"
      ]
     },
     "metadata": {
      "needs_background": "light"
     },
     "output_type": "display_data"
    }
   ],
   "source": [
    "# 생존률(Survived) 데이터 이상치 파악\n",
    "plt.hist(data['Survived']);\n",
    "\n",
    "# 0과 1 만 존재하는 것으로 보아, 이상치가 없는 온전한 데이터임을 알 수 있다."
   ]
  },
  {
   "cell_type": "code",
   "execution_count": 10,
   "id": "7xq7gR65dOlT",
   "metadata": {
    "colab": {
     "base_uri": "https://localhost:8080/",
     "height": 268
    },
    "id": "7xq7gR65dOlT",
    "outputId": "e48899e6-cb41-410e-f529-a2d7432960ee"
   },
   "outputs": [
    {
     "data": {
      "text/html": [
       "\n",
       "  <div id=\"df-1353cec0-19a6-4e03-ba7a-45d7e29ba3cd\">\n",
       "    <div class=\"colab-df-container\">\n",
       "      <div>\n",
       "<style scoped>\n",
       "    .dataframe tbody tr th:only-of-type {\n",
       "        vertical-align: middle;\n",
       "    }\n",
       "\n",
       "    .dataframe tbody tr th {\n",
       "        vertical-align: top;\n",
       "    }\n",
       "\n",
       "    .dataframe thead th {\n",
       "        text-align: right;\n",
       "    }\n",
       "</style>\n",
       "<table border=\"1\" class=\"dataframe\">\n",
       "  <thead>\n",
       "    <tr style=\"text-align: right;\">\n",
       "      <th></th>\n",
       "      <th>PassengerId</th>\n",
       "      <th>Survived</th>\n",
       "      <th>Pclass</th>\n",
       "      <th>Age</th>\n",
       "      <th>SibSp</th>\n",
       "      <th>Parch</th>\n",
       "      <th>Fare</th>\n",
       "    </tr>\n",
       "  </thead>\n",
       "  <tbody>\n",
       "    <tr>\n",
       "      <th>PassengerId</th>\n",
       "      <td>1.000000</td>\n",
       "      <td>-0.005007</td>\n",
       "      <td>-0.035144</td>\n",
       "      <td>0.036847</td>\n",
       "      <td>-0.057527</td>\n",
       "      <td>-0.001652</td>\n",
       "      <td>0.012658</td>\n",
       "    </tr>\n",
       "    <tr>\n",
       "      <th>Survived</th>\n",
       "      <td>-0.005007</td>\n",
       "      <td>1.000000</td>\n",
       "      <td>-0.338481</td>\n",
       "      <td>-0.077221</td>\n",
       "      <td>-0.035322</td>\n",
       "      <td>0.081629</td>\n",
       "      <td>0.257307</td>\n",
       "    </tr>\n",
       "    <tr>\n",
       "      <th>Pclass</th>\n",
       "      <td>-0.035144</td>\n",
       "      <td>-0.338481</td>\n",
       "      <td>1.000000</td>\n",
       "      <td>-0.369226</td>\n",
       "      <td>0.083081</td>\n",
       "      <td>0.018443</td>\n",
       "      <td>-0.549500</td>\n",
       "    </tr>\n",
       "    <tr>\n",
       "      <th>Age</th>\n",
       "      <td>0.036847</td>\n",
       "      <td>-0.077221</td>\n",
       "      <td>-0.369226</td>\n",
       "      <td>1.000000</td>\n",
       "      <td>-0.308247</td>\n",
       "      <td>-0.189119</td>\n",
       "      <td>0.096067</td>\n",
       "    </tr>\n",
       "    <tr>\n",
       "      <th>SibSp</th>\n",
       "      <td>-0.057527</td>\n",
       "      <td>-0.035322</td>\n",
       "      <td>0.083081</td>\n",
       "      <td>-0.308247</td>\n",
       "      <td>1.000000</td>\n",
       "      <td>0.414838</td>\n",
       "      <td>0.159651</td>\n",
       "    </tr>\n",
       "    <tr>\n",
       "      <th>Parch</th>\n",
       "      <td>-0.001652</td>\n",
       "      <td>0.081629</td>\n",
       "      <td>0.018443</td>\n",
       "      <td>-0.189119</td>\n",
       "      <td>0.414838</td>\n",
       "      <td>1.000000</td>\n",
       "      <td>0.216225</td>\n",
       "    </tr>\n",
       "    <tr>\n",
       "      <th>Fare</th>\n",
       "      <td>0.012658</td>\n",
       "      <td>0.257307</td>\n",
       "      <td>-0.549500</td>\n",
       "      <td>0.096067</td>\n",
       "      <td>0.159651</td>\n",
       "      <td>0.216225</td>\n",
       "      <td>1.000000</td>\n",
       "    </tr>\n",
       "  </tbody>\n",
       "</table>\n",
       "</div>\n",
       "      <button class=\"colab-df-convert\" onclick=\"convertToInteractive('df-1353cec0-19a6-4e03-ba7a-45d7e29ba3cd')\"\n",
       "              title=\"Convert this dataframe to an interactive table.\"\n",
       "              style=\"display:none;\">\n",
       "        \n",
       "  <svg xmlns=\"http://www.w3.org/2000/svg\" height=\"24px\"viewBox=\"0 0 24 24\"\n",
       "       width=\"24px\">\n",
       "    <path d=\"M0 0h24v24H0V0z\" fill=\"none\"/>\n",
       "    <path d=\"M18.56 5.44l.94 2.06.94-2.06 2.06-.94-2.06-.94-.94-2.06-.94 2.06-2.06.94zm-11 1L8.5 8.5l.94-2.06 2.06-.94-2.06-.94L8.5 2.5l-.94 2.06-2.06.94zm10 10l.94 2.06.94-2.06 2.06-.94-2.06-.94-.94-2.06-.94 2.06-2.06.94z\"/><path d=\"M17.41 7.96l-1.37-1.37c-.4-.4-.92-.59-1.43-.59-.52 0-1.04.2-1.43.59L10.3 9.45l-7.72 7.72c-.78.78-.78 2.05 0 2.83L4 21.41c.39.39.9.59 1.41.59.51 0 1.02-.2 1.41-.59l7.78-7.78 2.81-2.81c.8-.78.8-2.07 0-2.86zM5.41 20L4 18.59l7.72-7.72 1.47 1.35L5.41 20z\"/>\n",
       "  </svg>\n",
       "      </button>\n",
       "      \n",
       "  <style>\n",
       "    .colab-df-container {\n",
       "      display:flex;\n",
       "      flex-wrap:wrap;\n",
       "      gap: 12px;\n",
       "    }\n",
       "\n",
       "    .colab-df-convert {\n",
       "      background-color: #E8F0FE;\n",
       "      border: none;\n",
       "      border-radius: 50%;\n",
       "      cursor: pointer;\n",
       "      display: none;\n",
       "      fill: #1967D2;\n",
       "      height: 32px;\n",
       "      padding: 0 0 0 0;\n",
       "      width: 32px;\n",
       "    }\n",
       "\n",
       "    .colab-df-convert:hover {\n",
       "      background-color: #E2EBFA;\n",
       "      box-shadow: 0px 1px 2px rgba(60, 64, 67, 0.3), 0px 1px 3px 1px rgba(60, 64, 67, 0.15);\n",
       "      fill: #174EA6;\n",
       "    }\n",
       "\n",
       "    [theme=dark] .colab-df-convert {\n",
       "      background-color: #3B4455;\n",
       "      fill: #D2E3FC;\n",
       "    }\n",
       "\n",
       "    [theme=dark] .colab-df-convert:hover {\n",
       "      background-color: #434B5C;\n",
       "      box-shadow: 0px 1px 3px 1px rgba(0, 0, 0, 0.15);\n",
       "      filter: drop-shadow(0px 1px 2px rgba(0, 0, 0, 0.3));\n",
       "      fill: #FFFFFF;\n",
       "    }\n",
       "  </style>\n",
       "\n",
       "      <script>\n",
       "        const buttonEl =\n",
       "          document.querySelector('#df-1353cec0-19a6-4e03-ba7a-45d7e29ba3cd button.colab-df-convert');\n",
       "        buttonEl.style.display =\n",
       "          google.colab.kernel.accessAllowed ? 'block' : 'none';\n",
       "\n",
       "        async function convertToInteractive(key) {\n",
       "          const element = document.querySelector('#df-1353cec0-19a6-4e03-ba7a-45d7e29ba3cd');\n",
       "          const dataTable =\n",
       "            await google.colab.kernel.invokeFunction('convertToInteractive',\n",
       "                                                     [key], {});\n",
       "          if (!dataTable) return;\n",
       "\n",
       "          const docLinkHtml = 'Like what you see? Visit the ' +\n",
       "            '<a target=\"_blank\" href=https://colab.research.google.com/notebooks/data_table.ipynb>data table notebook</a>'\n",
       "            + ' to learn more about interactive tables.';\n",
       "          element.innerHTML = '';\n",
       "          dataTable['output_type'] = 'display_data';\n",
       "          await google.colab.output.renderOutput(dataTable, element);\n",
       "          const docLink = document.createElement('div');\n",
       "          docLink.innerHTML = docLinkHtml;\n",
       "          element.appendChild(docLink);\n",
       "        }\n",
       "      </script>\n",
       "    </div>\n",
       "  </div>\n",
       "  "
      ],
      "text/plain": [
       "             PassengerId  Survived    Pclass       Age     SibSp     Parch  \\\n",
       "PassengerId     1.000000 -0.005007 -0.035144  0.036847 -0.057527 -0.001652   \n",
       "Survived       -0.005007  1.000000 -0.338481 -0.077221 -0.035322  0.081629   \n",
       "Pclass         -0.035144 -0.338481  1.000000 -0.369226  0.083081  0.018443   \n",
       "Age             0.036847 -0.077221 -0.369226  1.000000 -0.308247 -0.189119   \n",
       "SibSp          -0.057527 -0.035322  0.083081 -0.308247  1.000000  0.414838   \n",
       "Parch          -0.001652  0.081629  0.018443 -0.189119  0.414838  1.000000   \n",
       "Fare            0.012658  0.257307 -0.549500  0.096067  0.159651  0.216225   \n",
       "\n",
       "                 Fare  \n",
       "PassengerId  0.012658  \n",
       "Survived     0.257307  \n",
       "Pclass      -0.549500  \n",
       "Age          0.096067  \n",
       "SibSp        0.159651  \n",
       "Parch        0.216225  \n",
       "Fare         1.000000  "
      ]
     },
     "execution_count": 10,
     "metadata": {},
     "output_type": "execute_result"
    }
   ],
   "source": [
    "# 수치 데이터 간 상관관계\n",
    "data.corr()"
   ]
  },
  {
   "cell_type": "code",
   "execution_count": 11,
   "id": "1x-XCl7ddmYZ",
   "metadata": {
    "colab": {
     "base_uri": "https://localhost:8080/",
     "height": 266
    },
    "id": "1x-XCl7ddmYZ",
    "outputId": "dfaa4d72-b130-4940-af17-65b59be8ac21"
   },
   "outputs": [
    {
     "data": {
      "image/png": "[encoded data removed]",
      "text/plain": [
       "<Figure size 432x288 with 2 Axes>"
      ]
     },
     "metadata": {},
     "output_type": "display_data"
    }
   ],
   "source": [
    "# 히트맵 = 특성 간 상관관계 도식화\n",
    "\n",
    "names = ['Survived','Pclass','Age','SibSp', 'Parch', 'Fare']\n",
    "cm = np.corrcoef(data[names].values.T)\n",
    "sns.set(font_scale=0.6)\n",
    "sns.heatmap(cm, cbar=True, annot=True, square=True, fmt='.2f', annot_kws={'size': 10}, \n",
    "            yticklabels=names,xticklabels=names);\n",
    "\n",
    "# 생존률(Survived)과의 상관관계를 살펴본 결과, 수치 데이터 타입 중에서는 요금(Fare) 데이터가 그나마 연관성이 있음을 알 수 있다."
   ]
  },
  {
   "cell_type": "markdown",
   "id": "03aaea56",
   "metadata": {
    "id": "03aaea56"
   },
   "source": [
    "# 2. Data Preprocessing"
   ]
  },
  {
   "cell_type": "markdown",
   "id": "b85aa30f",
   "metadata": {
    "id": "b85aa30f"
   },
   "source": [
    "### (b)  (20pt) 1) 각 변수별로 NaN 값을 몇 개 갖고 있는지 확인하고, 2) ‘PassengerId’, ’Name’, ’Ticket’ 열을 데이터에서 제거하여라. 3) ‘Age’열에서 NaN 값이 존재하면 제거하여라. 4) ‘Pclass’ data type 을 string 타입으로 변환하여라.\n"
   ]
  },
  {
   "cell_type": "markdown",
   "id": "Uc-rKsdLCIeX",
   "metadata": {
    "id": "Uc-rKsdLCIeX"
   },
   "source": [
    "#### 1) 각 변수별로 몇 개의 NaN 값이 포함되어 있는 지 확인"
   ]
  },
  {
   "cell_type": "code",
   "execution_count": 12,
   "id": "LtsSQ3LjxfBK",
   "metadata": {
    "colab": {
     "base_uri": "https://localhost:8080/"
    },
    "id": "LtsSQ3LjxfBK",
    "outputId": "029a7bc9-cbfa-4409-db32-a352c468956e"
   },
   "outputs": [
    {
     "data": {
      "text/plain": [
       "PassengerId      0\n",
       "Survived         0\n",
       "Pclass           0\n",
       "Name             0\n",
       "Sex              0\n",
       "Age            177\n",
       "SibSp            0\n",
       "Parch            0\n",
       "Ticket           0\n",
       "Fare             0\n",
       "Cabin          687\n",
       "Embarked         2\n",
       "dtype: int64"
      ]
     },
     "execution_count": 12,
     "metadata": {},
     "output_type": "execute_result"
    }
   ],
   "source": [
    "data.isnull().sum()\n",
    "\n",
    "# 아래 코드를 활용해 확인할 수도 있다.\n",
    "#count_nan = data.isnull().sum()\n",
    "#print(count_nan[count_nan > 0])"
   ]
  },
  {
   "cell_type": "markdown",
   "id": "uY_9_ZXMCNxM",
   "metadata": {
    "id": "uY_9_ZXMCNxM"
   },
   "source": [
    "#### 2) 'PassengerID', 'Name', 'Ticket' 열 제거"
   ]
  },
  {
   "cell_type": "code",
   "execution_count": 13,
   "id": "HDwEPbJUCRxU",
   "metadata": {
    "colab": {
     "base_uri": "https://localhost:8080/"
    },
    "id": "HDwEPbJUCRxU",
    "outputId": "aa2adbf2-e060-4e9e-e6d7-ae514c3a0ff4"
   },
   "outputs": [
    {
     "name": "stdout",
     "output_type": "stream",
     "text": [
      "<class 'pandas.core.frame.DataFrame'>\n",
      "RangeIndex: 891 entries, 0 to 890\n",
      "Data columns (total 9 columns):\n",
      " #   Column    Non-Null Count  Dtype  \n",
      "---  ------    --------------  -----  \n",
      " 0   Survived  891 non-null    int64  \n",
      " 1   Pclass    891 non-null    int64  \n",
      " 2   Sex       891 non-null    object \n",
      " 3   Age       714 non-null    float64\n",
      " 4   SibSp     891 non-null    int64  \n",
      " 5   Parch     891 non-null    int64  \n",
      " 6   Fare      891 non-null    float64\n",
      " 7   Cabin     204 non-null    object \n",
      " 8   Embarked  889 non-null    object \n",
      "dtypes: float64(2), int64(4), object(3)\n",
      "memory usage: 62.8+ KB\n"
     ]
    }
   ],
   "source": [
    "data.drop(['PassengerId', 'Name', 'Ticket'], axis = 1, inplace = True)\n",
    "data.info(); # 특정 열이 성공적으로 제거되었음을 확인할 수 있다."
   ]
  },
  {
   "cell_type": "markdown",
   "id": "fpEuexQLCSwB",
   "metadata": {
    "id": "fpEuexQLCSwB"
   },
   "source": [
    "#### 3) 'Age'열에서 NaN 값 제거"
   ]
  },
  {
   "cell_type": "code",
   "execution_count": 14,
   "id": "HDQVkOwkCWLp",
   "metadata": {
    "colab": {
     "base_uri": "https://localhost:8080/"
    },
    "id": "HDQVkOwkCWLp",
    "outputId": "785be77d-b4ce-43ee-fca9-8bcc7d1e0933"
   },
   "outputs": [
    {
     "name": "stdout",
     "output_type": "stream",
     "text": [
      "(714, 9)\n"
     ]
    }
   ],
   "source": [
    "data = data.dropna(subset = [\"Age\"])\n",
    "# data = data[data['Age'].notna()]\n",
    "\n",
    "print(data.shape) # 최초 891개의 행에서, 714개의 행을 가진 데이터로 변화되었음을 확인할 수 있다."
   ]
  },
  {
   "cell_type": "markdown",
   "id": "7RHCEEESCW3l",
   "metadata": {
    "id": "7RHCEEESCW3l"
   },
   "source": [
    "#### 4) 'Pclass' Data Type 변환 (int64 -> string)"
   ]
  },
  {
   "cell_type": "code",
   "execution_count": 15,
   "id": "akIG6KSOCXan",
   "metadata": {
    "colab": {
     "base_uri": "https://localhost:8080/"
    },
    "id": "akIG6KSOCXan",
    "outputId": "0f21ca54-5272-4cdf-ecf3-34a5b2f810fe"
   },
   "outputs": [
    {
     "name": "stdout",
     "output_type": "stream",
     "text": [
      "<class 'pandas.core.frame.DataFrame'>\n",
      "Int64Index: 714 entries, 0 to 890\n",
      "Data columns (total 9 columns):\n",
      " #   Column    Non-Null Count  Dtype  \n",
      "---  ------    --------------  -----  \n",
      " 0   Survived  714 non-null    int64  \n",
      " 1   Pclass    714 non-null    string \n",
      " 2   Sex       714 non-null    object \n",
      " 3   Age       714 non-null    float64\n",
      " 4   SibSp     714 non-null    int64  \n",
      " 5   Parch     714 non-null    int64  \n",
      " 6   Fare      714 non-null    float64\n",
      " 7   Cabin     185 non-null    object \n",
      " 8   Embarked  712 non-null    object \n",
      "dtypes: float64(2), int64(3), object(3), string(1)\n",
      "memory usage: 55.8+ KB\n"
     ]
    }
   ],
   "source": [
    "data = data.astype({'Pclass' : 'string'})\n",
    "data.info(); # 데이터 타입이 성공적으로 변화되었음을 알 수 있다."
   ]
  },
  {
   "cell_type": "markdown",
   "id": "944760c6",
   "metadata": {
    "id": "944760c6"
   },
   "source": [
    "# 3. Data Analysis"
   ]
  },
  {
   "cell_type": "markdown",
   "id": "ac5a7722",
   "metadata": {
    "id": "ac5a7722"
   },
   "source": [
    "### (c) (10pt) 성별로 생존율의 평균을 구하여 출력하여라.\n",
    "\n"
   ]
  },
  {
   "cell_type": "code",
   "execution_count": 16,
   "id": "WEZ92cE0TXVL",
   "metadata": {
    "colab": {
     "base_uri": "https://localhost:8080/"
    },
    "id": "WEZ92cE0TXVL",
    "outputId": "6a4277f9-b5f9-4cf4-ac20-a4b1ebe5a155"
   },
   "outputs": [
    {
     "data": {
      "text/plain": [
       "Sex\n",
       "female    0.754789\n",
       "male      0.205298\n",
       "Name: Survived, dtype: float64"
      ]
     },
     "execution_count": 16,
     "metadata": {},
     "output_type": "execute_result"
    }
   ],
   "source": [
    "# (c)\n",
    "\n",
    "data.groupby('Sex')['Survived'].mean() \n",
    "#data['Survived'].groupby(data['Sex']).mean()\n",
    "\n",
    "# 여성의 생존률이 남성의 3배 이상임을 알 수 있다."
   ]
  },
  {
   "cell_type": "code",
   "execution_count": 17,
   "id": "nHxQ6SmqCYVL",
   "metadata": {
    "colab": {
     "base_uri": "https://localhost:8080/",
     "height": 274
    },
    "id": "nHxQ6SmqCYVL",
    "outputId": "074d32c1-0c89-4e1e-9049-431cb0bda30f"
   },
   "outputs": [
    {
     "data": {
      "image/png": "[encoded data removed]",
      "text/plain": [
       "<Figure size 432x288 with 1 Axes>"
      ]
     },
     "metadata": {},
     "output_type": "display_data"
    }
   ],
   "source": [
    "# Addtional Approach: Sex 별 탑승자 인원 수 파악\n",
    "data.groupby('Sex').count()\n",
    "sns.countplot(y='Sex', data = data);\n",
    "# 남성이 여성보다 더 많이 탑승했음을 알 수 있다."
   ]
  },
  {
   "cell_type": "markdown",
   "id": "2ceb3530",
   "metadata": {
    "id": "2ceb3530"
   },
   "source": [
    "### (d) (10pt) 나이를 구간별로 나눌 수 있는 (10,20,30대…) 함수를 정의하고, 나이 구간 별로 평균 생존율을 구하되, 오름차순으로 정렬하여 출력하여라. \n",
    "* (주의: 나이를 구간별로 구분한 데이터를 원본의 ‘Age’ 열에 덮어씌우지 말 것)\n",
    "\n"
   ]
  },
  {
   "cell_type": "code",
   "execution_count": 18,
   "id": "eWC3c77QsPOD",
   "metadata": {
    "id": "eWC3c77QsPOD"
   },
   "outputs": [],
   "source": [
    "# (d) Method 1 : 사용자 정의 함수를 이용한 접근 (과제에 적용한 코드)\n",
    "\n",
    "# 데이터를 나이 구간별로 나누는 함수 정의\n",
    "def div_age(age) :\n",
    "  return int(age//10)\n",
    "\n",
    "# 연령대 정보를 받을 빈 리스트 정의\n",
    "Age_Group = []\n",
    "\n",
    "# 정의된 함수와 반복문을 활용, 연령대 정보를 빈 리스트에 할당\n",
    "for i in data['Age']:\n",
    "  Age_Group = (Age_Group + [str((div_age(i)*10)) + '대'])\n",
    "\n",
    "# 리스트를 원본 데이터프레임의 새로운 열로 추가.\n",
    "# 보다 편히 확인할 수 있도록, 'Age' 열 바로 옆에 추가하였다.\n",
    "data.insert(4, 'Age_Group', Age_Group)"
   ]
  },
  {
   "cell_type": "code",
   "execution_count": 19,
   "id": "BZMr6hUpw0ny",
   "metadata": {
    "id": "BZMr6hUpw0ny"
   },
   "outputs": [],
   "source": [
    "# # (d) Method 2 : pd.cut() 함수를 이용한 접근 (추가 학습)\n",
    "\n",
    "# # 데이터를 나이 구간별로 나누는 함수 정의\n",
    "# def div_data(data, columns, bins, labels) :\n",
    "#   return pd.cut(data[columns], bins, right = False, labels = labels)\n",
    "\n",
    "# # 함수 매개 인자 정의\n",
    "# bins = list(range(0, 101, 10))\n",
    "# labels = ['0대', '10대', '20대', '30대', '40대', '50대', '60대', '70대', '80대', '90대']\n",
    "\n",
    "# # 함수 적용, 데이터를 나이 구간별로 라벨링\n",
    "# data_Age = div_data(data, 'Age', bins, labels)\n",
    "\n",
    "# # 라벨링한 데이터를 원본 데이터프레임의 새로운 열로 추가.\n",
    "# # 보다 편히 확인할 수 있도록, 데이터를 리스트 타입으로 바꾼 뒤 'Age' 열 바로 옆에 추가하였다.\n",
    "# # data['Age_Group'] = data_Age (좌측의 이 코드를 적용 시, 리스트 타입으로 변환하지 않고 데이터프레임에 추가 가능하나, 이 경우 자동적으로 마지막 열에 추가된다.)\n",
    "# data_Age = list(data_Age)\n",
    "# data.insert(4, 'Age_Group', data_Age)"
   ]
  },
  {
   "cell_type": "code",
   "execution_count": 20,
   "id": "GPvaa8PWIxov",
   "metadata": {
    "colab": {
     "base_uri": "https://localhost:8080/",
     "height": 206
    },
    "id": "GPvaa8PWIxov",
    "outputId": "12d60166-3a3d-46ed-afe2-e660cb9863e8"
   },
   "outputs": [
    {
     "data": {
      "text/html": [
       "\n",
       "  <div id=\"df-ee07e710-383f-4b70-82b4-55d5c1a64d05\">\n",
       "    <div class=\"colab-df-container\">\n",
       "      <div>\n",
       "<style scoped>\n",
       "    .dataframe tbody tr th:only-of-type {\n",
       "        vertical-align: middle;\n",
       "    }\n",
       "\n",
       "    .dataframe tbody tr th {\n",
       "        vertical-align: top;\n",
       "    }\n",
       "\n",
       "    .dataframe thead th {\n",
       "        text-align: right;\n",
       "    }\n",
       "</style>\n",
       "<table border=\"1\" class=\"dataframe\">\n",
       "  <thead>\n",
       "    <tr style=\"text-align: right;\">\n",
       "      <th></th>\n",
       "      <th>Survived</th>\n",
       "      <th>Pclass</th>\n",
       "      <th>Sex</th>\n",
       "      <th>Age</th>\n",
       "      <th>Age_Group</th>\n",
       "      <th>SibSp</th>\n",
       "      <th>Parch</th>\n",
       "      <th>Fare</th>\n",
       "      <th>Cabin</th>\n",
       "      <th>Embarked</th>\n",
       "    </tr>\n",
       "  </thead>\n",
       "  <tbody>\n",
       "    <tr>\n",
       "      <th>0</th>\n",
       "      <td>0</td>\n",
       "      <td>3</td>\n",
       "      <td>male</td>\n",
       "      <td>22.0</td>\n",
       "      <td>20대</td>\n",
       "      <td>1</td>\n",
       "      <td>0</td>\n",
       "      <td>7.2500</td>\n",
       "      <td>NaN</td>\n",
       "      <td>S</td>\n",
       "    </tr>\n",
       "    <tr>\n",
       "      <th>1</th>\n",
       "      <td>1</td>\n",
       "      <td>1</td>\n",
       "      <td>female</td>\n",
       "      <td>38.0</td>\n",
       "      <td>30대</td>\n",
       "      <td>1</td>\n",
       "      <td>0</td>\n",
       "      <td>71.2833</td>\n",
       "      <td>C85</td>\n",
       "      <td>C</td>\n",
       "    </tr>\n",
       "    <tr>\n",
       "      <th>2</th>\n",
       "      <td>1</td>\n",
       "      <td>3</td>\n",
       "      <td>female</td>\n",
       "      <td>26.0</td>\n",
       "      <td>20대</td>\n",
       "      <td>0</td>\n",
       "      <td>0</td>\n",
       "      <td>7.9250</td>\n",
       "      <td>NaN</td>\n",
       "      <td>S</td>\n",
       "    </tr>\n",
       "    <tr>\n",
       "      <th>3</th>\n",
       "      <td>1</td>\n",
       "      <td>1</td>\n",
       "      <td>female</td>\n",
       "      <td>35.0</td>\n",
       "      <td>30대</td>\n",
       "      <td>1</td>\n",
       "      <td>0</td>\n",
       "      <td>53.1000</td>\n",
       "      <td>C123</td>\n",
       "      <td>S</td>\n",
       "    </tr>\n",
       "    <tr>\n",
       "      <th>4</th>\n",
       "      <td>0</td>\n",
       "      <td>3</td>\n",
       "      <td>male</td>\n",
       "      <td>35.0</td>\n",
       "      <td>30대</td>\n",
       "      <td>0</td>\n",
       "      <td>0</td>\n",
       "      <td>8.0500</td>\n",
       "      <td>NaN</td>\n",
       "      <td>S</td>\n",
       "    </tr>\n",
       "  </tbody>\n",
       "</table>\n",
       "</div>\n",
       "      <button class=\"colab-df-convert\" onclick=\"convertToInteractive('df-ee07e710-383f-4b70-82b4-55d5c1a64d05')\"\n",
       "              title=\"Convert this dataframe to an interactive table.\"\n",
       "              style=\"display:none;\">\n",
       "        \n",
       "  <svg xmlns=\"http://www.w3.org/2000/svg\" height=\"24px\"viewBox=\"0 0 24 24\"\n",
       "       width=\"24px\">\n",
       "    <path d=\"M0 0h24v24H0V0z\" fill=\"none\"/>\n",
       "    <path d=\"M18.56 5.44l.94 2.06.94-2.06 2.06-.94-2.06-.94-.94-2.06-.94 2.06-2.06.94zm-11 1L8.5 8.5l.94-2.06 2.06-.94-2.06-.94L8.5 2.5l-.94 2.06-2.06.94zm10 10l.94 2.06.94-2.06 2.06-.94-2.06-.94-.94-2.06-.94 2.06-2.06.94z\"/><path d=\"M17.41 7.96l-1.37-1.37c-.4-.4-.92-.59-1.43-.59-.52 0-1.04.2-1.43.59L10.3 9.45l-7.72 7.72c-.78.78-.78 2.05 0 2.83L4 21.41c.39.39.9.59 1.41.59.51 0 1.02-.2 1.41-.59l7.78-7.78 2.81-2.81c.8-.78.8-2.07 0-2.86zM5.41 20L4 18.59l7.72-7.72 1.47 1.35L5.41 20z\"/>\n",
       "  </svg>\n",
       "      </button>\n",
       "      \n",
       "  <style>\n",
       "    .colab-df-container {\n",
       "      display:flex;\n",
       "      flex-wrap:wrap;\n",
       "      gap: 12px;\n",
       "    }\n",
       "\n",
       "    .colab-df-convert {\n",
       "      background-color: #E8F0FE;\n",
       "      border: none;\n",
       "      border-radius: 50%;\n",
       "      cursor: pointer;\n",
       "      display: none;\n",
       "      fill: #1967D2;\n",
       "      height: 32px;\n",
       "      padding: 0 0 0 0;\n",
       "      width: 32px;\n",
       "    }\n",
       "\n",
       "    .colab-df-convert:hover {\n",
       "      background-color: #E2EBFA;\n",
       "      box-shadow: 0px 1px 2px rgba(60, 64, 67, 0.3), 0px 1px 3px 1px rgba(60, 64, 67, 0.15);\n",
       "      fill: #174EA6;\n",
       "    }\n",
       "\n",
       "    [theme=dark] .colab-df-convert {\n",
       "      background-color: #3B4455;\n",
       "      fill: #D2E3FC;\n",
       "    }\n",
       "\n",
       "    [theme=dark] .colab-df-convert:hover {\n",
       "      background-color: #434B5C;\n",
       "      box-shadow: 0px 1px 3px 1px rgba(0, 0, 0, 0.15);\n",
       "      filter: drop-shadow(0px 1px 2px rgba(0, 0, 0, 0.3));\n",
       "      fill: #FFFFFF;\n",
       "    }\n",
       "  </style>\n",
       "\n",
       "      <script>\n",
       "        const buttonEl =\n",
       "          document.querySelector('#df-ee07e710-383f-4b70-82b4-55d5c1a64d05 button.colab-df-convert');\n",
       "        buttonEl.style.display =\n",
       "          google.colab.kernel.accessAllowed ? 'block' : 'none';\n",
       "\n",
       "        async function convertToInteractive(key) {\n",
       "          const element = document.querySelector('#df-ee07e710-383f-4b70-82b4-55d5c1a64d05');\n",
       "          const dataTable =\n",
       "            await google.colab.kernel.invokeFunction('convertToInteractive',\n",
       "                                                     [key], {});\n",
       "          if (!dataTable) return;\n",
       "\n",
       "          const docLinkHtml = 'Like what you see? Visit the ' +\n",
       "            '<a target=\"_blank\" href=https://colab.research.google.com/notebooks/data_table.ipynb>data table notebook</a>'\n",
       "            + ' to learn more about interactive tables.';\n",
       "          element.innerHTML = '';\n",
       "          dataTable['output_type'] = 'display_data';\n",
       "          await google.colab.output.renderOutput(dataTable, element);\n",
       "          const docLink = document.createElement('div');\n",
       "          docLink.innerHTML = docLinkHtml;\n",
       "          element.appendChild(docLink);\n",
       "        }\n",
       "      </script>\n",
       "    </div>\n",
       "  </div>\n",
       "  "
      ],
      "text/plain": [
       "   Survived Pclass     Sex   Age Age_Group  SibSp  Parch     Fare Cabin  \\\n",
       "0         0      3    male  22.0       20대      1      0   7.2500   NaN   \n",
       "1         1      1  female  38.0       30대      1      0  71.2833   C85   \n",
       "2         1      3  female  26.0       20대      0      0   7.9250   NaN   \n",
       "3         1      1  female  35.0       30대      1      0  53.1000  C123   \n",
       "4         0      3    male  35.0       30대      0      0   8.0500   NaN   \n",
       "\n",
       "  Embarked  \n",
       "0        S  \n",
       "1        C  \n",
       "2        S  \n",
       "3        S  \n",
       "4        S  "
      ]
     },
     "execution_count": 20,
     "metadata": {},
     "output_type": "execute_result"
    }
   ],
   "source": [
    "data.head() # 나이를 10세 간격으로 나눠 라벨링한 'Age_Group'열이 추가되었음을 확인할 수 있다."
   ]
  },
  {
   "cell_type": "code",
   "execution_count": 21,
   "id": "uA6eeEMxTdKi",
   "metadata": {
    "colab": {
     "base_uri": "https://localhost:8080/",
     "height": 363
    },
    "id": "uA6eeEMxTdKi",
    "outputId": "31383116-1e90-42ef-d37a-43bbdebafd3f"
   },
   "outputs": [
    {
     "data": {
      "text/html": [
       "\n",
       "  <div id=\"df-9b073cf6-9678-4bc7-8129-fd76aba0f7ad\">\n",
       "    <div class=\"colab-df-container\">\n",
       "      <div>\n",
       "<style scoped>\n",
       "    .dataframe tbody tr th:only-of-type {\n",
       "        vertical-align: middle;\n",
       "    }\n",
       "\n",
       "    .dataframe tbody tr th {\n",
       "        vertical-align: top;\n",
       "    }\n",
       "\n",
       "    .dataframe thead th {\n",
       "        text-align: right;\n",
       "    }\n",
       "</style>\n",
       "<table border=\"1\" class=\"dataframe\">\n",
       "  <thead>\n",
       "    <tr style=\"text-align: right;\">\n",
       "      <th></th>\n",
       "      <th>Survived[%]</th>\n",
       "    </tr>\n",
       "    <tr>\n",
       "      <th>Age_Group</th>\n",
       "      <th></th>\n",
       "    </tr>\n",
       "  </thead>\n",
       "  <tbody>\n",
       "    <tr>\n",
       "      <th>70대</th>\n",
       "      <td>0.000000</td>\n",
       "    </tr>\n",
       "    <tr>\n",
       "      <th>60대</th>\n",
       "      <td>31.578947</td>\n",
       "    </tr>\n",
       "    <tr>\n",
       "      <th>20대</th>\n",
       "      <td>35.000000</td>\n",
       "    </tr>\n",
       "    <tr>\n",
       "      <th>40대</th>\n",
       "      <td>38.202247</td>\n",
       "    </tr>\n",
       "    <tr>\n",
       "      <th>10대</th>\n",
       "      <td>40.196078</td>\n",
       "    </tr>\n",
       "    <tr>\n",
       "      <th>50대</th>\n",
       "      <td>41.666667</td>\n",
       "    </tr>\n",
       "    <tr>\n",
       "      <th>30대</th>\n",
       "      <td>43.712575</td>\n",
       "    </tr>\n",
       "    <tr>\n",
       "      <th>0대</th>\n",
       "      <td>61.290323</td>\n",
       "    </tr>\n",
       "    <tr>\n",
       "      <th>80대</th>\n",
       "      <td>100.000000</td>\n",
       "    </tr>\n",
       "  </tbody>\n",
       "</table>\n",
       "</div>\n",
       "      <button class=\"colab-df-convert\" onclick=\"convertToInteractive('df-9b073cf6-9678-4bc7-8129-fd76aba0f7ad')\"\n",
       "              title=\"Convert this dataframe to an interactive table.\"\n",
       "              style=\"display:none;\">\n",
       "        \n",
       "  <svg xmlns=\"http://www.w3.org/2000/svg\" height=\"24px\"viewBox=\"0 0 24 24\"\n",
       "       width=\"24px\">\n",
       "    <path d=\"M0 0h24v24H0V0z\" fill=\"none\"/>\n",
       "    <path d=\"M18.56 5.44l.94 2.06.94-2.06 2.06-.94-2.06-.94-.94-2.06-.94 2.06-2.06.94zm-11 1L8.5 8.5l.94-2.06 2.06-.94-2.06-.94L8.5 2.5l-.94 2.06-2.06.94zm10 10l.94 2.06.94-2.06 2.06-.94-2.06-.94-.94-2.06-.94 2.06-2.06.94z\"/><path d=\"M17.41 7.96l-1.37-1.37c-.4-.4-.92-.59-1.43-.59-.52 0-1.04.2-1.43.59L10.3 9.45l-7.72 7.72c-.78.78-.78 2.05 0 2.83L4 21.41c.39.39.9.59 1.41.59.51 0 1.02-.2 1.41-.59l7.78-7.78 2.81-2.81c.8-.78.8-2.07 0-2.86zM5.41 20L4 18.59l7.72-7.72 1.47 1.35L5.41 20z\"/>\n",
       "  </svg>\n",
       "      </button>\n",
       "      \n",
       "  <style>\n",
       "    .colab-df-container {\n",
       "      display:flex;\n",
       "      flex-wrap:wrap;\n",
       "      gap: 12px;\n",
       "    }\n",
       "\n",
       "    .colab-df-convert {\n",
       "      background-color: #E8F0FE;\n",
       "      border: none;\n",
       "      border-radius: 50%;\n",
       "      cursor: pointer;\n",
       "      display: none;\n",
       "      fill: #1967D2;\n",
       "      height: 32px;\n",
       "      padding: 0 0 0 0;\n",
       "      width: 32px;\n",
       "    }\n",
       "\n",
       "    .colab-df-convert:hover {\n",
       "      background-color: #E2EBFA;\n",
       "      box-shadow: 0px 1px 2px rgba(60, 64, 67, 0.3), 0px 1px 3px 1px rgba(60, 64, 67, 0.15);\n",
       "      fill: #174EA6;\n",
       "    }\n",
       "\n",
       "    [theme=dark] .colab-df-convert {\n",
       "      background-color: #3B4455;\n",
       "      fill: #D2E3FC;\n",
       "    }\n",
       "\n",
       "    [theme=dark] .colab-df-convert:hover {\n",
       "      background-color: #434B5C;\n",
       "      box-shadow: 0px 1px 3px 1px rgba(0, 0, 0, 0.15);\n",
       "      filter: drop-shadow(0px 1px 2px rgba(0, 0, 0, 0.3));\n",
       "      fill: #FFFFFF;\n",
       "    }\n",
       "  </style>\n",
       "\n",
       "      <script>\n",
       "        const buttonEl =\n",
       "          document.querySelector('#df-9b073cf6-9678-4bc7-8129-fd76aba0f7ad button.colab-df-convert');\n",
       "        buttonEl.style.display =\n",
       "          google.colab.kernel.accessAllowed ? 'block' : 'none';\n",
       "\n",
       "        async function convertToInteractive(key) {\n",
       "          const element = document.querySelector('#df-9b073cf6-9678-4bc7-8129-fd76aba0f7ad');\n",
       "          const dataTable =\n",
       "            await google.colab.kernel.invokeFunction('convertToInteractive',\n",
       "                                                     [key], {});\n",
       "          if (!dataTable) return;\n",
       "\n",
       "          const docLinkHtml = 'Like what you see? Visit the ' +\n",
       "            '<a target=\"_blank\" href=https://colab.research.google.com/notebooks/data_table.ipynb>data table notebook</a>'\n",
       "            + ' to learn more about interactive tables.';\n",
       "          element.innerHTML = '';\n",
       "          dataTable['output_type'] = 'display_data';\n",
       "          await google.colab.output.renderOutput(dataTable, element);\n",
       "          const docLink = document.createElement('div');\n",
       "          docLink.innerHTML = docLinkHtml;\n",
       "          element.appendChild(docLink);\n",
       "        }\n",
       "      </script>\n",
       "    </div>\n",
       "  </div>\n",
       "  "
      ],
      "text/plain": [
       "           Survived[%]\n",
       "Age_Group             \n",
       "70대           0.000000\n",
       "60대          31.578947\n",
       "20대          35.000000\n",
       "40대          38.202247\n",
       "10대          40.196078\n",
       "50대          41.666667\n",
       "30대          43.712575\n",
       "0대           61.290323\n",
       "80대         100.000000"
      ]
     },
     "execution_count": 21,
     "metadata": {},
     "output_type": "execute_result"
    }
   ],
   "source": [
    "# 원본 데이터의 순서를 바꾸지 않고, 나이 구간 별 생존률만을 오름차순으로 정렬하여 출력하기 위해 새로운 데이터프레임을 생성하였다.\n",
    "# mean() 함수 적용 시 0~1 사이의 값이 출력되므로, 백분위 단위로 표시해 가독성을 높이고자 하였다.\n",
    "\n",
    "Survived_by_AgeGroup = pd.DataFrame(data.groupby('Age_Group')['Survived'].mean()*100)\n",
    "Survived_by_AgeGroup.columns = ['Survived[%]']\n",
    "\n",
    "# 생존률 값을 바탕으로, 데이터를 오름차순으로 정리하였다.\n",
    "Survived_by_AgeGroup.sort_values(by = 'Survived[%]', inplace = True)\n",
    "\n",
    "# 데이터 프레임 출력\n",
    "Survived_by_AgeGroup\n",
    "# print(Survived_by_AgeGroup['Survived[%]'])\n",
    "\n",
    "# 나이와 생존률이 선형적인 관계를 갖지 않는 다는 것을 확인할 수 있었다.\n",
    "# 독특한 부분은, 나이가 70대인 사람들은 한 명도 생존하지 못 한 반면 80대의 사람의 생존률이 100%라는 점인데,\n",
    "# 이토록 극단적인 값이 나온 것을 보아 해당 연령 데이터의 수가 충분하지 않았을 가능성을 제시할 수 있다.\n",
    "# 뿐만 아니라, 0대(0~9세) 사이의 생존률이 가장 높은 것을 알 수 있는데, 이를 통해 탑승객들이 영유아의 생존을 최우선했을 것이라고 추측할 수 있다."
   ]
  },
  {
   "cell_type": "markdown",
   "id": "80cbb6a7",
   "metadata": {
    "id": "80cbb6a7"
   },
   "source": [
    "### (e) (15pt) 사망자와 생존자 각각을 나이별 분포로 나타낸 히스토그램을 그려라.\n"
   ]
  },
  {
   "cell_type": "code",
   "execution_count": 24,
   "id": "KyNYxADErg8D",
   "metadata": {
    "colab": {
     "base_uri": "https://localhost:8080/",
     "height": 553
    },
    "id": "KyNYxADErg8D",
    "outputId": "627b7020-3ece-404e-d28a-c5c46b7b9501"
   },
   "outputs": [
    {
     "name": "stderr",
     "output_type": "stream",
     "text": [
      "/usr/local/lib/python3.7/dist-packages/numpy/core/fromnumeric.py:3208: VisibleDeprecationWarning: Creating an ndarray from ragged nested sequences (which is a list-or-tuple of lists-or-tuples-or ndarrays with different lengths or shapes) is deprecated. If you meant to do this, you must specify 'dtype=object' when creating the ndarray.\n",
      "  return asarray(a).size\n",
      "/usr/local/lib/python3.7/dist-packages/matplotlib/cbook/__init__.py:1376: VisibleDeprecationWarning: Creating an ndarray from ragged nested sequences (which is a list-or-tuple of lists-or-tuples-or ndarrays with different lengths or shapes) is deprecated. If you meant to do this, you must specify 'dtype=object' when creating the ndarray.\n",
      "  X = np.atleast_1d(X.T if isinstance(X, np.ndarray) else np.asarray(X))\n"
     ]
    },
    {
     "data": {
      "image/png": "[encoded data removed]",
      "text/plain": [
       "<Figure size 720x504 with 1 Axes>"
      ]
     },
     "metadata": {},
     "output_type": "display_data"
    }
   ],
   "source": [
    "# (e) Method 1 : plt.hist() 함수를 활용한 히스토그램 출력 (최초 과제(수정 전)로 주어진 예시 그래프를 그리기 위한 코드)\n",
    "\n",
    "# 사망자와 생존자 각각을 나이별 분포로 나눠 리스트에 할당하는 코드\n",
    "Dead_Group = data.loc[data['Survived'] == 0]\n",
    "Dead_People_Age = list(Dead_Group['Age'])\n",
    "\n",
    "Alive_Group = data.loc[data['Survived'] == 1]\n",
    "Alive_People_Age = list(Alive_Group['Age'])\n",
    "\n",
    "## ===============================================================================\n",
    "## ================== 위의 코드는 다음과 같이 축약할 수도 있다. ==================\n",
    "## Dead_People_Age = list(data.groupby('Survived').get_group(0).loc[:, 'Age'])\n",
    "## Alive_People_Age = list(data.groupby('Survived').get_group(1).loc[:, 'Age'])\n",
    "## ===============================================================================\n",
    "\n",
    "# Plotting\n",
    "f = plt.figure(figsize = (10, 7))\n",
    "plt.hist([Dead_People_Age, Alive_People_Age], label = ['Survived: X', 'Survived: O'], )\n",
    "plt.title('Age - Survival count', fontsize = 15);\n",
    "plt.xlabel('Age_group', fontsize = 10);\n",
    "plt.ylabel('count', fontsize = 10);\n",
    "plt.legend(fontsize = 10);\n",
    "\n",
    "# plt.hist() 의 parameter에 생존자, 사망자 각각의 데이터를 인가함에 따라 다음과 같은 그래프를 얻을 수 있다.\n",
    "# 그러나 이 그래프의 경우, 나이 데이터가 어떠한 분포를 이루는 지를 시각적으로 명확히 판단할 수 없다.\n",
    "# 따라서 Method 2에 작성한 것 처럼, (d)에서 구한 연령대 데이터를 바탕으로 시각화하는 것이 보다 데이터 분석에 용이하다고 판단된다."
   ]
  },
  {
   "cell_type": "code",
   "execution_count": 34,
   "id": "sP6mTjXXTn0t",
   "metadata": {
    "colab": {
     "base_uri": "https://localhost:8080/",
     "height": 475
    },
    "id": "sP6mTjXXTn0t",
    "outputId": "16d6d54d-451d-41a8-b418-7b627db557df"
   },
   "outputs": [
    {
     "data": {
      "image/png": "[encoded data removed]",
      "text/plain": [
       "<Figure size 720x504 with 1 Axes>"
      ]
     },
     "metadata": {},
     "output_type": "display_data"
    }
   ],
   "source": [
    "# (e) Method 2: (d)에서 구한 'Age_Group' 데이터를 활용한 히스토그램 출력\n",
    "\n",
    "# 막대 그래프의 굵기 설정\n",
    "bar_width = 0.3\n",
    "\n",
    "# 생존에 관한 데이터는 'Survived' 열에, 생존은 1, 사망은 0으로 표기되어 있다.\n",
    "# 따라서, groupby() 함수와 sum() 함수를 활용하여 나이 구간별 생존자의 수를 집계할 수 있으며\n",
    "# groupby() 함수와 size() 함수를 활용하여 구한 나이 구간별 전체 인원 수에서 생존자 수를 빼 줌으로서 사망자 수를 집계할 수 있다.\n",
    "Alive = list(data.groupby('Age_Group')['Survived'].sum())\n",
    "Dead = list(data.groupby('Age_Group')['Survived'].size() - Alive)\n",
    "\n",
    "# plot을 위한 x축 데이터 정의\n",
    "r1 = np.arange(len(Alive))\n",
    "r2 = [x + (1.5*bar_width) for x in r1]\n",
    "     \n",
    "# plotting\n",
    "f = plt.figure(figsize = (10, 7))\n",
    "plt.bar(r1 + (bar_width/2), Dead, color = 'blue', width = bar_width, edgecolor = 'white', label = 'Survived = X');\n",
    "plt.bar(r2, Alive, color = 'orange', width = bar_width, edgecolor = 'white', label = 'Survived = O');\n",
    "\n",
    "# 데이터 나타내기(제목, X & Y축 라벨링, 범례)\n",
    "plt.title('Age - Survival count', fontweight = 'bold', fontsize = 20);\n",
    "plt.xlabel('Age_group', fontweight = 'bold', fontsize = 15);\n",
    "plt.xticks([r + bar_width for r in range(len(Alive))], ['0~9', '10~19', '20~29', '30~39', '40~49', '50~59', '60~69','70~79', '80~89', '90~99'], fontsize = 13);\n",
    "plt.yticks(fontsize = 13)\n",
    "plt.ylabel('count', fontweight = 'bold', fontsize = 15);\n",
    "plt.grid(True)\n",
    "plt.legend(fontsize = 15);\n",
    "\n",
    "# (d)의 출력값(생존률[%]) 과 유사하게, 생존자&사망자 인원 수가 나이 구간에 따라 plot되었음을 확인할 수 있다.\n",
    "# (d)의 과정에서 분석했던 것처럼, 7~80대의 데이터 수가 타 연령대에 비해 턱없이 부족함을 알 수 있다."
   ]
  },
  {
   "cell_type": "markdown",
   "id": "0ba63671",
   "metadata": {
    "id": "0ba63671"
   },
   "source": [
    "### (f) (15pt) 사망자와 생존자 각각을 나이별 분포로 나타내되, 성별에 따라 나타낸 히스토그램을 각각 그려라.\n",
    "\n"
   ]
  },
  {
   "cell_type": "code",
   "execution_count": 38,
   "id": "cW2Adb0VTpDy",
   "metadata": {
    "colab": {
     "base_uri": "https://localhost:8080/",
     "height": 457
    },
    "id": "cW2Adb0VTpDy",
    "outputId": "1d59ba30-3147-4c15-81da-ca10bfa8f24f"
   },
   "outputs": [
    {
     "name": "stderr",
     "output_type": "stream",
     "text": [
      "/usr/local/lib/python3.7/dist-packages/numpy/core/fromnumeric.py:3208: VisibleDeprecationWarning: Creating an ndarray from ragged nested sequences (which is a list-or-tuple of lists-or-tuples-or ndarrays with different lengths or shapes) is deprecated. If you meant to do this, you must specify 'dtype=object' when creating the ndarray.\n",
      "  return asarray(a).size\n",
      "/usr/local/lib/python3.7/dist-packages/matplotlib/cbook/__init__.py:1376: VisibleDeprecationWarning: Creating an ndarray from ragged nested sequences (which is a list-or-tuple of lists-or-tuples-or ndarrays with different lengths or shapes) is deprecated. If you meant to do this, you must specify 'dtype=object' when creating the ndarray.\n",
      "  X = np.atleast_1d(X.T if isinstance(X, np.ndarray) else np.asarray(X))\n"
     ]
    },
    {
     "data": {
      "text/plain": [
       "<matplotlib.legend.Legend at 0x7fb942484050>"
      ]
     },
     "execution_count": 38,
     "metadata": {},
     "output_type": "execute_result"
    },
    {
     "data": {
      "image/png": "[encoded data removed]",
      "text/plain": [
       "<Figure size 1080x360 with 2 Axes>"
      ]
     },
     "metadata": {},
     "output_type": "display_data"
    }
   ],
   "source": [
    "# (f) Method 1 : plt.hist() 함수를 활용한 히스토그램 출력 (최초 과제(수정 전)로 주어진 예시 그래프를 그리기 위한 코드)\n",
    "\n",
    "# 사망자 데이터를 성별에 따라 나누는 코드\n",
    "Dead_Male_Group = Dead_Group.loc[Dead_Group['Sex'] == 'male']\n",
    "Dead_Female_Group = Dead_Group.loc[Dead_Group['Sex'] == 'female']\n",
    "\n",
    "# 성별에 따라 나뉜 사망자 데이터를 다시금 나이별 분포로 쪼개는 코드\n",
    "Dead_Male_Group_Age = list(Dead_Male_Group['Age'])\n",
    "Dead_Female_Group_Age = list(Dead_Female_Group['Age'])\n",
    "\n",
    "# 생존자자 데이터를 성별에 따라 나누는 코드\n",
    "Alive_Male_Group = Alive_Group.loc[Alive_Group['Sex'] == 'male']\n",
    "Alive_Female_Group = Alive_Group.loc[Alive_Group['Sex'] == 'female']\n",
    "\n",
    "# 성별에 따라 나뉜 생존자 데이터를 다시금 나이별 분포로 쪼개는 코드\n",
    "Alive_Male_Group_Age = list(Alive_Male_Group['Age'])\n",
    "Alive_Female_Group_Age = list(Alive_Female_Group['Age'])\n",
    "\n",
    "# ==========================================================================================\n",
    "# ======================================== Plotting ======================================== \n",
    "# ==========================================================================================\n",
    "\n",
    "fig, axs = [ax1, ax2] = plt.subplots(1, 2, figsize = (15, 5), sharex = True)\n",
    "\n",
    "axs[0].hist([Dead_Male_Group_Age, Alive_Male_Group_Age], label = ['Survived: X', 'Survived: O'])\n",
    "axs[1].hist([Dead_Female_Group_Age, Alive_Female_Group_Age], label = ['Survived: X', 'Survived: O']);\n",
    "\n",
    "axs[0].set_title('Male', fontsize = 10);\n",
    "axs[0].set_xlabel('age', fontsize = 10);\n",
    "axs[0].set_ylabel('count', fontsize = 10);\n",
    "axs[0].legend(fontsize = 10)\n",
    "\n",
    "axs[1].set_title('Female', fontsize = 10);\n",
    "axs[1].set_xlabel('age', fontsize = 10);\n",
    "axs[1].set_ylabel('count', fontsize = 10);\n",
    "axs[1].legend(fontsize = 10)\n",
    "\n",
    "# plt.hist() 의 parameter에 성별에 따른 생존자, 사망자 각각의 데이터를 인가함에 따라 다음과 같은 그래프를 얻을 수 있다.\n",
    "# 그러나 이 경우, 두 그래프의 x축 scale이 서로 상이할 뿐 만 아니라, 나이 데이터가 어떠한 분포를 이루는 지를 시각적으로 명확히 판단할 수 없다.\n",
    "# 따라서 Method 2에 작성한 것 처럼, (d)에서 구한 연령대 데이터를 바탕으로 시각화하는 것이 보다 데이터 분석에 용이하다고 판단된다."
   ]
  },
  {
   "cell_type": "code",
   "execution_count": 42,
   "id": "X77og9ZbgpII",
   "metadata": {
    "colab": {
     "base_uri": "https://localhost:8080/",
     "height": 364
    },
    "id": "X77og9ZbgpII",
    "outputId": "94b82d54-e381-4658-8763-cc2f335e2840"
   },
   "outputs": [
    {
     "data": {
      "text/plain": [
       "<matplotlib.legend.Legend at 0x7fb9422e3290>"
      ]
     },
     "execution_count": 42,
     "metadata": {},
     "output_type": "execute_result"
    },
    {
     "data": {
      "image/png": "[encoded data removed]",
      "text/plain": [
       "<Figure size 1080x360 with 2 Axes>"
      ]
     },
     "metadata": {},
     "output_type": "display_data"
    }
   ],
   "source": [
    "# (f) Method 2 : (d)에서 구한 'Age_Group' 데이터를 활용한 히스토그램 출력\n",
    "\n",
    "# 데이터를 성별에 따라 나누는 코드\n",
    "Male_Group = data.loc[data['Sex'] == 'male']\n",
    "Female_Group = data.loc[data['Sex'] == 'female']\n",
    "\n",
    "# 성별에 따라 나뉜 데이터를 바탕으로, 나이 구간별 생존자 & 사망자 수를 집계하는 코드.\n",
    "# 생존에 관한 데이터는 'Survived' 열에, 생존은 1, 사망은 0으로 표기되어 있다.\n",
    "# 따라서, groupby() 함수와 sum() 함수를 활용하여 나이 구간별 생존자의 수를 집계할 수 있으며\n",
    "# groupby() 함수와 size() 함수를 활용하여 구한 나이 구간별 전체 인원 수에서 생존자 수를 빼 줌으로서 사망자 수를 집계할 수 있다.\n",
    "\n",
    "Alive_Male_Group_Age = Male_Group.groupby('Age_Group')['Survived'].sum()\n",
    "Dead_Male_Group_Age = Male_Group.groupby('Age_Group')['Survived'].size() - Alive_Male_Group_Age\n",
    "\n",
    "Alive_Female_Group_Age = Female_Group.groupby('Age_Group')['Survived'].sum()\n",
    "Dead_Female_Group_Age = Female_Group.groupby('Age_Group')['Survived'].size() - Alive_Female_Group_Age\n",
    "\n",
    "# ==========================================================================================\n",
    "# ======================================== Plotting ======================================== \n",
    "# ==========================================================================================\n",
    "# x축 데이터 정의\n",
    "r1 = np.arange(len(Dead_Male_Group_Age)) - bar_width/2\n",
    "r2 = [x + bar_width for x in r1]\n",
    "r3 = np.arange(len(Dead_Female_Group_Age)) - bar_width/2\n",
    "r4 = [x + bar_width for x in r3]\n",
    "\n",
    "# 막대 그래프의 굵기 설정\n",
    "bar_width = 0.3\n",
    "\n",
    "# ploting\n",
    "fig, axs = [ax1, ax2] = plt.subplots(1, 2, figsize = (15, 5), sharex = True)\n",
    "plt.grid(True)\n",
    "plt.xticks(range(len(Dead_Male_Group_Age)), ['0~9', '10~19', '20~29', '30~39', '40~49', '50~59', '60~69','70~79', '80~89', '90~99'], fontsize = 7);\n",
    "\n",
    "\n",
    "axs[0].bar(r1, Dead_Male_Group_Age, color = 'blue', width = bar_width, edgecolor = 'white', label = 'Survived = X');\n",
    "axs[0].bar(r2, Alive_Male_Group_Age, color = 'orange', width = bar_width, edgecolor = 'white', label = 'Survived = O');\n",
    "\n",
    "axs[1].bar(r3, Dead_Female_Group_Age, color = 'blue', width = bar_width, edgecolor = 'white', label = 'Survived = X');\n",
    "axs[1].bar(r4, Alive_Female_Group_Age, color = 'orange', width = bar_width, edgecolor = 'white', label = 'Survived = O');\n",
    "\n",
    "axs[0].set_title('Male', fontsize = 10);\n",
    "axs[0].set_xlabel('age', fontsize = 10);\n",
    "axs[0].set_ylabel('count', fontsize = 10);\n",
    "axs[0].legend(fontsize = 10)\n",
    "\n",
    "axs[1].set_title('Female', fontsize = 10);\n",
    "axs[1].set_xlabel('age', fontsize = 10);\n",
    "axs[1].set_ylabel('count', fontsize = 10);\n",
    "axs[1].legend(fontsize = 10)\n",
    "\n",
    "# 10세 간격으로 데이터를 범주화하고, x축 눈금을 동일하게 하여 성별 별 그래프를 출력함으로서, 데이터 분석의 가독성을 향상시켰다.\n",
    "# 탑승한 인원은 남성이 여성보다 많으나, 생존률 측면에서는 여성이 훨씬 높다는 것을 확인할 수 있다.\n",
    "# 남녀를 불문하고, 20대(20~29세)가 전 연령대 중 가장 높은 사망률을 기록함을 확인할 수 있다.\n",
    "# 전반적으로, 영유아와 여성을 우선적으로 살리고자 했음을 짐작할 수 있다."
   ]
  },
  {
   "cell_type": "markdown",
   "id": "47b87208",
   "metadata": {
    "id": "47b87208"
   },
   "source": [
    "### (g) (10pt) Pclass 별로 생존자 평균을 나타내는 그래프를 그려라\n"
   ]
  },
  {
   "cell_type": "code",
   "execution_count": 47,
   "id": "eNESxSKkTqZr",
   "metadata": {
    "colab": {
     "base_uri": "https://localhost:8080/",
     "height": 446
    },
    "id": "eNESxSKkTqZr",
    "outputId": "4e00ba74-3697-40c2-e8e1-b7e87aef5534"
   },
   "outputs": [
    {
     "data": {
      "image/png": "[encoded data removed]",
      "text/plain": [
       "<Figure size 504x504 with 1 Axes>"
      ]
     },
     "metadata": {},
     "output_type": "display_data"
    }
   ],
   "source": [
    "# (g)\n",
    "# Method 1) Plot using plt.bar() function\n",
    "\n",
    "Survived_by_Pclass = pd.DataFrame(data.groupby('Pclass')['Survived'].mean())\n",
    "Pclass_Surv_Yaxis = list(Survived_by_Pclass['Survived'])\n",
    "Pclass_Surv_Xaxis = list(Survived_by_Pclass.index.astype(int))\n",
    "\n",
    "f = plt.figure(figsize = (7, 7))\n",
    "plt.bar(Pclass_Surv_Xaxis, Pclass_Surv_Yaxis, width = 0.5)\n",
    "plt.xticks(rotation = 90)\n",
    "plt.xlabel('Pclass', fontsize = 10);\n",
    "plt.ylabel('Survived Probability', fontsize = 10);"
   ]
  },
  {
   "cell_type": "code",
   "execution_count": 48,
   "id": "PxUXVZnmpgn8",
   "metadata": {
    "colab": {
     "base_uri": "https://localhost:8080/",
     "height": 439
    },
    "id": "PxUXVZnmpgn8",
    "outputId": "f59df30a-7b8c-46d4-f534-d806909a5d4c"
   },
   "outputs": [
    {
     "data": {
      "image/png": "[encoded data removed]",
      "text/plain": [
       "<Figure size 504x504 with 1 Axes>"
      ]
     },
     "metadata": {},
     "output_type": "display_data"
    }
   ],
   "source": [
    "# Method 2) Plot using df.plot() function\n",
    "\n",
    "f = plt.figure(figsize = (7, 7))\n",
    "Survived_by_Pclass = data.groupby('Pclass')['Survived'].mean()\n",
    "Survived_by_Pclass.plot(kind = 'bar', x = 'Pclass', y = 'Survived Probability');\n",
    "plt.xlabel('Pclass', fontsize = 10);\n",
    "plt.ylabel('Survived Probability', fontsize = 10);"
   ]
  },
  {
   "cell_type": "markdown",
   "id": "c9ce1def",
   "metadata": {
    "id": "c9ce1def"
   },
   "source": [
    "### (h) (10pt) Embarked (탑승지) 별로 생존자 평균을 나타내는 그래프를 그려라.\n"
   ]
  },
  {
   "cell_type": "code",
   "execution_count": 49,
   "id": "TDEbWk-3TrX0",
   "metadata": {
    "colab": {
     "base_uri": "https://localhost:8080/",
     "height": 248
    },
    "id": "TDEbWk-3TrX0",
    "outputId": "9bce8cff-c729-4b8e-9e85-dee6d9114b75"
   },
   "outputs": [
    {
     "data": {
      "image/png": "[encoded data removed]",
      "text/plain": [
       "<Figure size 288x288 with 1 Axes>"
      ]
     },
     "metadata": {},
     "output_type": "display_data"
    }
   ],
   "source": [
    "# (h)\n",
    "f = plt.figure(figsize = (4, 4))\n",
    "Survived_by_Embarked = data.groupby('Embarked')['Survived'].mean()\n",
    "Survived_by_Embarked_index = pd.DataFrame(data.groupby('Embarked')['Survived'].mean())\n",
    "Survived_by_Embarked_index = list(Survived_by_Embarked.index)\n",
    "\n",
    "Survived_by_Embarked.plot(kind = 'pie', autopct = \"%.1f%%\", fontsize = 10)\n",
    "plt.legend(Survived_by_Embarked_index, fontsize = 10);\n",
    "\n",
    "# 생존률이 C > Q > S 순임을 알 수 있다."
   ]
  },
  {
   "cell_type": "markdown",
   "id": "00459ad2",
   "metadata": {
    "id": "00459ad2"
   },
   "source": [
    "# Bonus) (maximum 10pt) \n",
    "* 위의 분석 (a~h) 으로부터 알 수 있는 사실을 서술하고 (코드에 주석으로 표시하고 서술할 것) 이 외에도 생존에 영향을 미칠 수 있는 변수들이 무엇일지에 대해 분석해보아라\n",
    "* (단, 시각화한 그래프 하나 이상을 포함 해야함)."
   ]
  },
  {
   "cell_type": "markdown",
   "id": "En45Bu90BNvI",
   "metadata": {
    "id": "En45Bu90BNvI"
   },
   "source": [
    "탑승지와 요금, 생존률 간 상관관계 분석"
   ]
  },
  {
   "cell_type": "markdown",
   "id": "ZHJ_IPPnBu2s",
   "metadata": {
    "id": "ZHJ_IPPnBu2s"
   },
   "source": [
    "데이터 살펴보기 단계에서, 생존률과 요금 간에 어느 정도의 상관관계가 있음을 확인했다.\n",
    "뿐만 아니라, (g)와 (h) 단계에서 Pclass, 탑승지에 따른 생존률을 살펴보았다.\n",
    "그렇다면, 요금과 탑승지 그리고 요금과 Pclass 간에는 어떤 상관관계가 있을 수 있을까? "
   ]
  },
  {
   "cell_type": "code",
   "execution_count": 50,
   "id": "peUsbQQmBUSY",
   "metadata": {
    "colab": {
     "base_uri": "https://localhost:8080/",
     "height": 274
    },
    "id": "peUsbQQmBUSY",
    "outputId": "7a8d92f5-975b-4432-ca4f-5b9855b637b4"
   },
   "outputs": [
    {
     "data": {
      "image/png": "[encoded data removed]",
      "text/plain": [
       "<Figure size 432x288 with 1 Axes>"
      ]
     },
     "metadata": {},
     "output_type": "display_data"
    }
   ],
   "source": [
    "# Embarked 별 탑승자 인원 수 파악\n",
    "data.groupby('Embarked').count()\n",
    "sns.countplot(y='Embarked', data = data);"
   ]
  },
  {
   "cell_type": "code",
   "execution_count": 51,
   "id": "9DNjH56CFloh",
   "metadata": {
    "colab": {
     "base_uri": "https://localhost:8080/",
     "height": 175
    },
    "id": "9DNjH56CFloh",
    "outputId": "38efcd15-cb87-4a19-c16a-53ee10662d14"
   },
   "outputs": [
    {
     "data": {
      "text/html": [
       "\n",
       "  <div id=\"df-55047ad3-e4cb-42de-9745-96d3bdd841b3\">\n",
       "    <div class=\"colab-df-container\">\n",
       "      <div>\n",
       "<style scoped>\n",
       "    .dataframe tbody tr th:only-of-type {\n",
       "        vertical-align: middle;\n",
       "    }\n",
       "\n",
       "    .dataframe tbody tr th {\n",
       "        vertical-align: top;\n",
       "    }\n",
       "\n",
       "    .dataframe thead th {\n",
       "        text-align: right;\n",
       "    }\n",
       "</style>\n",
       "<table border=\"1\" class=\"dataframe\">\n",
       "  <thead>\n",
       "    <tr style=\"text-align: right;\">\n",
       "      <th>Sex</th>\n",
       "      <th>female</th>\n",
       "      <th>male</th>\n",
       "    </tr>\n",
       "    <tr>\n",
       "      <th>Pclass</th>\n",
       "      <th></th>\n",
       "      <th></th>\n",
       "    </tr>\n",
       "  </thead>\n",
       "  <tbody>\n",
       "    <tr>\n",
       "      <th>1</th>\n",
       "      <td>0.964706</td>\n",
       "      <td>0.396040</td>\n",
       "    </tr>\n",
       "    <tr>\n",
       "      <th>2</th>\n",
       "      <td>0.918919</td>\n",
       "      <td>0.151515</td>\n",
       "    </tr>\n",
       "    <tr>\n",
       "      <th>3</th>\n",
       "      <td>0.460784</td>\n",
       "      <td>0.150198</td>\n",
       "    </tr>\n",
       "  </tbody>\n",
       "</table>\n",
       "</div>\n",
       "      <button class=\"colab-df-convert\" onclick=\"convertToInteractive('df-55047ad3-e4cb-42de-9745-96d3bdd841b3')\"\n",
       "              title=\"Convert this dataframe to an interactive table.\"\n",
       "              style=\"display:none;\">\n",
       "        \n",
       "  <svg xmlns=\"http://www.w3.org/2000/svg\" height=\"24px\"viewBox=\"0 0 24 24\"\n",
       "       width=\"24px\">\n",
       "    <path d=\"M0 0h24v24H0V0z\" fill=\"none\"/>\n",
       "    <path d=\"M18.56 5.44l.94 2.06.94-2.06 2.06-.94-2.06-.94-.94-2.06-.94 2.06-2.06.94zm-11 1L8.5 8.5l.94-2.06 2.06-.94-2.06-.94L8.5 2.5l-.94 2.06-2.06.94zm10 10l.94 2.06.94-2.06 2.06-.94-2.06-.94-.94-2.06-.94 2.06-2.06.94z\"/><path d=\"M17.41 7.96l-1.37-1.37c-.4-.4-.92-.59-1.43-.59-.52 0-1.04.2-1.43.59L10.3 9.45l-7.72 7.72c-.78.78-.78 2.05 0 2.83L4 21.41c.39.39.9.59 1.41.59.51 0 1.02-.2 1.41-.59l7.78-7.78 2.81-2.81c.8-.78.8-2.07 0-2.86zM5.41 20L4 18.59l7.72-7.72 1.47 1.35L5.41 20z\"/>\n",
       "  </svg>\n",
       "      </button>\n",
       "      \n",
       "  <style>\n",
       "    .colab-df-container {\n",
       "      display:flex;\n",
       "      flex-wrap:wrap;\n",
       "      gap: 12px;\n",
       "    }\n",
       "\n",
       "    .colab-df-convert {\n",
       "      background-color: #E8F0FE;\n",
       "      border: none;\n",
       "      border-radius: 50%;\n",
       "      cursor: pointer;\n",
       "      display: none;\n",
       "      fill: #1967D2;\n",
       "      height: 32px;\n",
       "      padding: 0 0 0 0;\n",
       "      width: 32px;\n",
       "    }\n",
       "\n",
       "    .colab-df-convert:hover {\n",
       "      background-color: #E2EBFA;\n",
       "      box-shadow: 0px 1px 2px rgba(60, 64, 67, 0.3), 0px 1px 3px 1px rgba(60, 64, 67, 0.15);\n",
       "      fill: #174EA6;\n",
       "    }\n",
       "\n",
       "    [theme=dark] .colab-df-convert {\n",
       "      background-color: #3B4455;\n",
       "      fill: #D2E3FC;\n",
       "    }\n",
       "\n",
       "    [theme=dark] .colab-df-convert:hover {\n",
       "      background-color: #434B5C;\n",
       "      box-shadow: 0px 1px 3px 1px rgba(0, 0, 0, 0.15);\n",
       "      filter: drop-shadow(0px 1px 2px rgba(0, 0, 0, 0.3));\n",
       "      fill: #FFFFFF;\n",
       "    }\n",
       "  </style>\n",
       "\n",
       "      <script>\n",
       "        const buttonEl =\n",
       "          document.querySelector('#df-55047ad3-e4cb-42de-9745-96d3bdd841b3 button.colab-df-convert');\n",
       "        buttonEl.style.display =\n",
       "          google.colab.kernel.accessAllowed ? 'block' : 'none';\n",
       "\n",
       "        async function convertToInteractive(key) {\n",
       "          const element = document.querySelector('#df-55047ad3-e4cb-42de-9745-96d3bdd841b3');\n",
       "          const dataTable =\n",
       "            await google.colab.kernel.invokeFunction('convertToInteractive',\n",
       "                                                     [key], {});\n",
       "          if (!dataTable) return;\n",
       "\n",
       "          const docLinkHtml = 'Like what you see? Visit the ' +\n",
       "            '<a target=\"_blank\" href=https://colab.research.google.com/notebooks/data_table.ipynb>data table notebook</a>'\n",
       "            + ' to learn more about interactive tables.';\n",
       "          element.innerHTML = '';\n",
       "          dataTable['output_type'] = 'display_data';\n",
       "          await google.colab.output.renderOutput(dataTable, element);\n",
       "          const docLink = document.createElement('div');\n",
       "          docLink.innerHTML = docLinkHtml;\n",
       "          element.appendChild(docLink);\n",
       "        }\n",
       "      </script>\n",
       "    </div>\n",
       "  </div>\n",
       "  "
      ],
      "text/plain": [
       "Sex       female      male\n",
       "Pclass                    \n",
       "1       0.964706  0.396040\n",
       "2       0.918919  0.151515\n",
       "3       0.460784  0.150198"
      ]
     },
     "execution_count": 51,
     "metadata": {},
     "output_type": "execute_result"
    }
   ],
   "source": [
    "# 성별이 생존률과 밀접한 연관이 있음을 확인했다.\n",
    "# 또한, Pclass1 > Pclass2 > Pclass3 순서로 생존률이 높음을 확인했다.\n",
    "# 그렇다면, 성별과 PClass 그리고 생존률 각각은 어떤 상관관계가 있을까?\n",
    "\n",
    "data.groupby(['Pclass', 'Sex'])['Survived'].mean().unstack()\n",
    "# 코드 실행 결과, 1등석과 2등석에 탑승했던 여성들은 90%가 넘는 생존률을 보였고, 남성의 경우에도 1등석에 탑승했던 인원이 2&3등석 인원들보다 2배 이상 생존률이 높았다."
   ]
  },
  {
   "cell_type": "code",
   "execution_count": 52,
   "id": "QsLOpteUGkoa",
   "metadata": {
    "colab": {
     "base_uri": "https://localhost:8080/",
     "height": 175
    },
    "id": "QsLOpteUGkoa",
    "outputId": "89687958-af83-4e85-a921-2851879f714c"
   },
   "outputs": [
    {
     "data": {
      "text/html": [
       "\n",
       "  <div id=\"df-799ea7a2-1ea8-4705-9c4f-56f410294ec3\">\n",
       "    <div class=\"colab-df-container\">\n",
       "      <div>\n",
       "<style scoped>\n",
       "    .dataframe tbody tr th:only-of-type {\n",
       "        vertical-align: middle;\n",
       "    }\n",
       "\n",
       "    .dataframe tbody tr th {\n",
       "        vertical-align: top;\n",
       "    }\n",
       "\n",
       "    .dataframe thead th {\n",
       "        text-align: right;\n",
       "    }\n",
       "</style>\n",
       "<table border=\"1\" class=\"dataframe\">\n",
       "  <thead>\n",
       "    <tr style=\"text-align: right;\">\n",
       "      <th></th>\n",
       "      <th>Fare</th>\n",
       "    </tr>\n",
       "    <tr>\n",
       "      <th>Pclass</th>\n",
       "      <th></th>\n",
       "    </tr>\n",
       "  </thead>\n",
       "  <tbody>\n",
       "    <tr>\n",
       "      <th>1</th>\n",
       "      <td>87.961582</td>\n",
       "    </tr>\n",
       "    <tr>\n",
       "      <th>2</th>\n",
       "      <td>21.471556</td>\n",
       "    </tr>\n",
       "    <tr>\n",
       "      <th>3</th>\n",
       "      <td>13.229435</td>\n",
       "    </tr>\n",
       "  </tbody>\n",
       "</table>\n",
       "</div>\n",
       "      <button class=\"colab-df-convert\" onclick=\"convertToInteractive('df-799ea7a2-1ea8-4705-9c4f-56f410294ec3')\"\n",
       "              title=\"Convert this dataframe to an interactive table.\"\n",
       "              style=\"display:none;\">\n",
       "        \n",
       "  <svg xmlns=\"http://www.w3.org/2000/svg\" height=\"24px\"viewBox=\"0 0 24 24\"\n",
       "       width=\"24px\">\n",
       "    <path d=\"M0 0h24v24H0V0z\" fill=\"none\"/>\n",
       "    <path d=\"M18.56 5.44l.94 2.06.94-2.06 2.06-.94-2.06-.94-.94-2.06-.94 2.06-2.06.94zm-11 1L8.5 8.5l.94-2.06 2.06-.94-2.06-.94L8.5 2.5l-.94 2.06-2.06.94zm10 10l.94 2.06.94-2.06 2.06-.94-2.06-.94-.94-2.06-.94 2.06-2.06.94z\"/><path d=\"M17.41 7.96l-1.37-1.37c-.4-.4-.92-.59-1.43-.59-.52 0-1.04.2-1.43.59L10.3 9.45l-7.72 7.72c-.78.78-.78 2.05 0 2.83L4 21.41c.39.39.9.59 1.41.59.51 0 1.02-.2 1.41-.59l7.78-7.78 2.81-2.81c.8-.78.8-2.07 0-2.86zM5.41 20L4 18.59l7.72-7.72 1.47 1.35L5.41 20z\"/>\n",
       "  </svg>\n",
       "      </button>\n",
       "      \n",
       "  <style>\n",
       "    .colab-df-container {\n",
       "      display:flex;\n",
       "      flex-wrap:wrap;\n",
       "      gap: 12px;\n",
       "    }\n",
       "\n",
       "    .colab-df-convert {\n",
       "      background-color: #E8F0FE;\n",
       "      border: none;\n",
       "      border-radius: 50%;\n",
       "      cursor: pointer;\n",
       "      display: none;\n",
       "      fill: #1967D2;\n",
       "      height: 32px;\n",
       "      padding: 0 0 0 0;\n",
       "      width: 32px;\n",
       "    }\n",
       "\n",
       "    .colab-df-convert:hover {\n",
       "      background-color: #E2EBFA;\n",
       "      box-shadow: 0px 1px 2px rgba(60, 64, 67, 0.3), 0px 1px 3px 1px rgba(60, 64, 67, 0.15);\n",
       "      fill: #174EA6;\n",
       "    }\n",
       "\n",
       "    [theme=dark] .colab-df-convert {\n",
       "      background-color: #3B4455;\n",
       "      fill: #D2E3FC;\n",
       "    }\n",
       "\n",
       "    [theme=dark] .colab-df-convert:hover {\n",
       "      background-color: #434B5C;\n",
       "      box-shadow: 0px 1px 3px 1px rgba(0, 0, 0, 0.15);\n",
       "      filter: drop-shadow(0px 1px 2px rgba(0, 0, 0, 0.3));\n",
       "      fill: #FFFFFF;\n",
       "    }\n",
       "  </style>\n",
       "\n",
       "      <script>\n",
       "        const buttonEl =\n",
       "          document.querySelector('#df-799ea7a2-1ea8-4705-9c4f-56f410294ec3 button.colab-df-convert');\n",
       "        buttonEl.style.display =\n",
       "          google.colab.kernel.accessAllowed ? 'block' : 'none';\n",
       "\n",
       "        async function convertToInteractive(key) {\n",
       "          const element = document.querySelector('#df-799ea7a2-1ea8-4705-9c4f-56f410294ec3');\n",
       "          const dataTable =\n",
       "            await google.colab.kernel.invokeFunction('convertToInteractive',\n",
       "                                                     [key], {});\n",
       "          if (!dataTable) return;\n",
       "\n",
       "          const docLinkHtml = 'Like what you see? Visit the ' +\n",
       "            '<a target=\"_blank\" href=https://colab.research.google.com/notebooks/data_table.ipynb>data table notebook</a>'\n",
       "            + ' to learn more about interactive tables.';\n",
       "          element.innerHTML = '';\n",
       "          dataTable['output_type'] = 'display_data';\n",
       "          await google.colab.output.renderOutput(dataTable, element);\n",
       "          const docLink = document.createElement('div');\n",
       "          docLink.innerHTML = docLinkHtml;\n",
       "          element.appendChild(docLink);\n",
       "        }\n",
       "      </script>\n",
       "    </div>\n",
       "  </div>\n",
       "  "
      ],
      "text/plain": [
       "             Fare\n",
       "Pclass           \n",
       "1       87.961582\n",
       "2       21.471556\n",
       "3       13.229435"
      ]
     },
     "execution_count": 52,
     "metadata": {},
     "output_type": "execute_result"
    }
   ],
   "source": [
    "# 데이터 살펴보기 단계에서, 생존률(Survived)과 요금(Fare) 간에 상관관계가 있음을 확인했기에, 다음의 코드를 실행시켜 보았다. \n",
    "pd.DataFrame(data.groupby('Pclass')['Fare'].mean())\n",
    "\n",
    "# 코드 실행 결과, 예상대로 1등석에 탑승한 사람이 지불한 비용의 평균이 2, 3등석의 비용을 월등히 초월했다.\n",
    "# 즉, 부유한 사람의 생존률이 전반적으로 높다는 것을 확인할 수 있다."
   ]
  },
  {
   "cell_type": "code",
   "execution_count": 53,
   "id": "t3MApFafBlsB",
   "metadata": {
    "colab": {
     "base_uri": "https://localhost:8080/"
    },
    "id": "t3MApFafBlsB",
    "outputId": "817ad03c-4f71-45d1-ae4f-3a603dbaab4a"
   },
   "outputs": [
    {
     "data": {
      "text/plain": [
       "Embarked\n",
       "C    68.296767\n",
       "Q    18.265775\n",
       "S    27.476284\n",
       "Name: Fare, dtype: float64"
      ]
     },
     "execution_count": 53,
     "metadata": {},
     "output_type": "execute_result"
    }
   ],
   "source": [
    "# (h) 에서, 탑승지역에 따른 생존률을 살펴보았다. (C > Q > S)\n",
    "# 앞에서 비용을 많이 지불했던, 즉 부유한 이들의 생존률이 높음을 확인했는데, 그렇다면 탑승지역과 비용 간에도 상관관계가 있지 않을까?\n",
    "\n",
    "data.groupby('Embarked')['Fare'].mean()\n",
    "\n",
    "# 코드 실행 결과, 생존률이 가장 높았던 C 지역의 탑승객들이 지불한 비용이 타 지역을 가볍게 상회하는 것을 확인했다.\n",
    "# 즉, C 지역에 부유한 사람들이 많이 살았던 것으로 추측할 수 있다."
   ]
  },
  {
   "cell_type": "code",
   "execution_count": 54,
   "id": "H2-gbAjuJffO",
   "metadata": {
    "colab": {
     "base_uri": "https://localhost:8080/",
     "height": 274
    },
    "id": "H2-gbAjuJffO",
    "outputId": "76dd9b8b-5d2d-4030-b555-ac40e3c8266b"
   },
   "outputs": [
    {
     "data": {
      "image/png": "[encoded data removed]",
      "text/plain": [
       "<Figure size 432x288 with 1 Axes>"
      ]
     },
     "metadata": {},
     "output_type": "display_data"
    }
   ],
   "source": [
    "# 그런데, 생존률과 달리 S 지역 탑승객의 평균 비용이 Q 지역보다 간소하게 높았다. 그렇다면, 데이터의 양을 확인해 볼 필요가 있다.\n",
    "\n",
    "sns.countplot(y = 'Embarked', data = data);"
   ]
  },
  {
   "cell_type": "code",
   "execution_count": 55,
   "id": "d-XgWnakUz-Q",
   "metadata": {
    "colab": {
     "base_uri": "https://localhost:8080/",
     "height": 206
    },
    "id": "d-XgWnakUz-Q",
    "outputId": "16cc6a20-163c-4e5f-b46a-861c2e8f628c"
   },
   "outputs": [
    {
     "data": {
      "text/html": [
       "\n",
       "  <div id=\"df-e554fd6e-2520-48fe-a53c-72125ef68d8e\">\n",
       "    <div class=\"colab-df-container\">\n",
       "      <div>\n",
       "<style scoped>\n",
       "    .dataframe tbody tr th:only-of-type {\n",
       "        vertical-align: middle;\n",
       "    }\n",
       "\n",
       "    .dataframe tbody tr th {\n",
       "        vertical-align: top;\n",
       "    }\n",
       "\n",
       "    .dataframe thead th {\n",
       "        text-align: right;\n",
       "    }\n",
       "</style>\n",
       "<table border=\"1\" class=\"dataframe\">\n",
       "  <thead>\n",
       "    <tr style=\"text-align: right;\">\n",
       "      <th>Pclass</th>\n",
       "      <th>1</th>\n",
       "      <th>2</th>\n",
       "      <th>3</th>\n",
       "      <th>All</th>\n",
       "    </tr>\n",
       "    <tr>\n",
       "      <th>Embarked</th>\n",
       "      <th></th>\n",
       "      <th></th>\n",
       "      <th></th>\n",
       "      <th></th>\n",
       "    </tr>\n",
       "  </thead>\n",
       "  <tbody>\n",
       "    <tr>\n",
       "      <th>C</th>\n",
       "      <td>0.716216</td>\n",
       "      <td>0.533333</td>\n",
       "      <td>0.439024</td>\n",
       "      <td>0.607692</td>\n",
       "    </tr>\n",
       "    <tr>\n",
       "      <th>Q</th>\n",
       "      <td>0.500000</td>\n",
       "      <td>0.500000</td>\n",
       "      <td>0.250000</td>\n",
       "      <td>0.285714</td>\n",
       "    </tr>\n",
       "    <tr>\n",
       "      <th>S</th>\n",
       "      <td>0.611111</td>\n",
       "      <td>0.474359</td>\n",
       "      <td>0.210345</td>\n",
       "      <td>0.362816</td>\n",
       "    </tr>\n",
       "    <tr>\n",
       "      <th>All</th>\n",
       "      <td>0.652174</td>\n",
       "      <td>0.479769</td>\n",
       "      <td>0.239437</td>\n",
       "      <td>0.404494</td>\n",
       "    </tr>\n",
       "  </tbody>\n",
       "</table>\n",
       "</div>\n",
       "      <button class=\"colab-df-convert\" onclick=\"convertToInteractive('df-e554fd6e-2520-48fe-a53c-72125ef68d8e')\"\n",
       "              title=\"Convert this dataframe to an interactive table.\"\n",
       "              style=\"display:none;\">\n",
       "        \n",
       "  <svg xmlns=\"http://www.w3.org/2000/svg\" height=\"24px\"viewBox=\"0 0 24 24\"\n",
       "       width=\"24px\">\n",
       "    <path d=\"M0 0h24v24H0V0z\" fill=\"none\"/>\n",
       "    <path d=\"M18.56 5.44l.94 2.06.94-2.06 2.06-.94-2.06-.94-.94-2.06-.94 2.06-2.06.94zm-11 1L8.5 8.5l.94-2.06 2.06-.94-2.06-.94L8.5 2.5l-.94 2.06-2.06.94zm10 10l.94 2.06.94-2.06 2.06-.94-2.06-.94-.94-2.06-.94 2.06-2.06.94z\"/><path d=\"M17.41 7.96l-1.37-1.37c-.4-.4-.92-.59-1.43-.59-.52 0-1.04.2-1.43.59L10.3 9.45l-7.72 7.72c-.78.78-.78 2.05 0 2.83L4 21.41c.39.39.9.59 1.41.59.51 0 1.02-.2 1.41-.59l7.78-7.78 2.81-2.81c.8-.78.8-2.07 0-2.86zM5.41 20L4 18.59l7.72-7.72 1.47 1.35L5.41 20z\"/>\n",
       "  </svg>\n",
       "      </button>\n",
       "      \n",
       "  <style>\n",
       "    .colab-df-container {\n",
       "      display:flex;\n",
       "      flex-wrap:wrap;\n",
       "      gap: 12px;\n",
       "    }\n",
       "\n",
       "    .colab-df-convert {\n",
       "      background-color: #E8F0FE;\n",
       "      border: none;\n",
       "      border-radius: 50%;\n",
       "      cursor: pointer;\n",
       "      display: none;\n",
       "      fill: #1967D2;\n",
       "      height: 32px;\n",
       "      padding: 0 0 0 0;\n",
       "      width: 32px;\n",
       "    }\n",
       "\n",
       "    .colab-df-convert:hover {\n",
       "      background-color: #E2EBFA;\n",
       "      box-shadow: 0px 1px 2px rgba(60, 64, 67, 0.3), 0px 1px 3px 1px rgba(60, 64, 67, 0.15);\n",
       "      fill: #174EA6;\n",
       "    }\n",
       "\n",
       "    [theme=dark] .colab-df-convert {\n",
       "      background-color: #3B4455;\n",
       "      fill: #D2E3FC;\n",
       "    }\n",
       "\n",
       "    [theme=dark] .colab-df-convert:hover {\n",
       "      background-color: #434B5C;\n",
       "      box-shadow: 0px 1px 3px 1px rgba(0, 0, 0, 0.15);\n",
       "      filter: drop-shadow(0px 1px 2px rgba(0, 0, 0, 0.3));\n",
       "      fill: #FFFFFF;\n",
       "    }\n",
       "  </style>\n",
       "\n",
       "      <script>\n",
       "        const buttonEl =\n",
       "          document.querySelector('#df-e554fd6e-2520-48fe-a53c-72125ef68d8e button.colab-df-convert');\n",
       "        buttonEl.style.display =\n",
       "          google.colab.kernel.accessAllowed ? 'block' : 'none';\n",
       "\n",
       "        async function convertToInteractive(key) {\n",
       "          const element = document.querySelector('#df-e554fd6e-2520-48fe-a53c-72125ef68d8e');\n",
       "          const dataTable =\n",
       "            await google.colab.kernel.invokeFunction('convertToInteractive',\n",
       "                                                     [key], {});\n",
       "          if (!dataTable) return;\n",
       "\n",
       "          const docLinkHtml = 'Like what you see? Visit the ' +\n",
       "            '<a target=\"_blank\" href=https://colab.research.google.com/notebooks/data_table.ipynb>data table notebook</a>'\n",
       "            + ' to learn more about interactive tables.';\n",
       "          element.innerHTML = '';\n",
       "          dataTable['output_type'] = 'display_data';\n",
       "          await google.colab.output.renderOutput(dataTable, element);\n",
       "          const docLink = document.createElement('div');\n",
       "          docLink.innerHTML = docLinkHtml;\n",
       "          element.appendChild(docLink);\n",
       "        }\n",
       "      </script>\n",
       "    </div>\n",
       "  </div>\n",
       "  "
      ],
      "text/plain": [
       "Pclass           1         2         3       All\n",
       "Embarked                                        \n",
       "C         0.716216  0.533333  0.439024  0.607692\n",
       "Q         0.500000  0.500000  0.250000  0.285714\n",
       "S         0.611111  0.474359  0.210345  0.362816\n",
       "All       0.652174  0.479769  0.239437  0.404494"
      ]
     },
     "execution_count": 55,
     "metadata": {},
     "output_type": "execute_result"
    }
   ],
   "source": [
    "# 탑승 지역과 Pclass 에 따른 생존률 또한 살펴보았다.\n",
    "\n",
    "data.pivot_table('Survived', index = 'Embarked', columns = 'Pclass', margins = True)\n",
    "\n",
    "# 코드 실행 결과, S 지역에서 사람들이 가장 많이 탑승했음을 알 수 있었다.\n",
    "# 또한, Q 지역 탑승객의 경우 1등석과 2등석의 생존률이 모두 동일할 뿐 만 아니라 그 표본의 수가 타 지역에 비해 매우 저조했다.\n",
    "# 따라서, S 지역 탑승객의 수가 많은 만큼 1등석에 탑승한 사람의 수 또한 Q 지역보다 많을 것이고, 그렇기에 S 지역 평균 지불 비용이 Q를 상회한 것으로 보인다."
   ]
  }
 ],
 "metadata": {
  "colab": {
   "collapsed_sections": [
    "43a9f8bc"
   ],
   "name": "Assignment#1_21700469_Jinsu_Yu.ipynb",
   "provenance": []
  },
  "kernelspec": {
   "display_name": "Python 3 (ipykernel)",
   "language": "python",
   "name": "python3"
  },
  "language_info": {
   "codemirror_mode": {
    "name": "ipython",
    "version": 3
   },
   "file_extension": ".py",
   "mimetype": "text/x-python",
   "name": "python",
   "nbconvert_exporter": "python",
   "pygments_lexer": "ipython3",
   "version": "3.9.7"
  }
 },
 "nbformat": 4,
 "nbformat_minor": 5
}
